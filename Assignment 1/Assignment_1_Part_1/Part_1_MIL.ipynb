{
  "nbformat": 4,
  "nbformat_minor": 0,
  "metadata": {
    "colab": {
      "name": "Part 1_MIL",
      "provenance": [],
      "authorship_tag": "ABX9TyN4EKXYcNx47P80bu99vKVd",
      "include_colab_link": true
    },
    "kernelspec": {
      "name": "python3",
      "display_name": "Python 3"
    },
    "accelerator": "GPU",
    "widgets": {
      "application/vnd.jupyter.widget-state+json": {
        "0636b9e9b714435a9a54daaa63aac2a1": {
          "model_module": "@jupyter-widgets/controls",
          "model_name": "HBoxModel",
          "state": {
            "_view_name": "HBoxView",
            "_dom_classes": [],
            "_model_name": "HBoxModel",
            "_view_module": "@jupyter-widgets/controls",
            "_model_module_version": "1.5.0",
            "_view_count": null,
            "_view_module_version": "1.5.0",
            "box_style": "",
            "layout": "IPY_MODEL_5fe905d5db8a44f0af9c2d5a98a86925",
            "_model_module": "@jupyter-widgets/controls",
            "children": [
              "IPY_MODEL_8fb3cc6aaeb8430f95847fad5b57f989",
              "IPY_MODEL_33597d5b093b4421bf6de98e9e6c25c9"
            ]
          }
        },
        "5fe905d5db8a44f0af9c2d5a98a86925": {
          "model_module": "@jupyter-widgets/base",
          "model_name": "LayoutModel",
          "state": {
            "_view_name": "LayoutView",
            "grid_template_rows": null,
            "right": null,
            "justify_content": null,
            "_view_module": "@jupyter-widgets/base",
            "overflow": null,
            "_model_module_version": "1.2.0",
            "_view_count": null,
            "flex_flow": null,
            "width": null,
            "min_width": null,
            "border": null,
            "align_items": null,
            "bottom": null,
            "_model_module": "@jupyter-widgets/base",
            "top": null,
            "grid_column": null,
            "overflow_y": null,
            "overflow_x": null,
            "grid_auto_flow": null,
            "grid_area": null,
            "grid_template_columns": null,
            "flex": null,
            "_model_name": "LayoutModel",
            "justify_items": null,
            "grid_row": null,
            "max_height": null,
            "align_content": null,
            "visibility": null,
            "align_self": null,
            "height": null,
            "min_height": null,
            "padding": null,
            "grid_auto_rows": null,
            "grid_gap": null,
            "max_width": null,
            "order": null,
            "_view_module_version": "1.2.0",
            "grid_template_areas": null,
            "object_position": null,
            "object_fit": null,
            "grid_auto_columns": null,
            "margin": null,
            "display": null,
            "left": null
          }
        },
        "8fb3cc6aaeb8430f95847fad5b57f989": {
          "model_module": "@jupyter-widgets/controls",
          "model_name": "FloatProgressModel",
          "state": {
            "_view_name": "ProgressView",
            "style": "IPY_MODEL_0e37b9e889254621814b169bd8f010b4",
            "_dom_classes": [],
            "description": "Loss: 1.6272: 100%",
            "_model_name": "FloatProgressModel",
            "bar_style": "success",
            "max": 235,
            "_view_module": "@jupyter-widgets/controls",
            "_model_module_version": "1.5.0",
            "value": 235,
            "_view_count": null,
            "_view_module_version": "1.5.0",
            "orientation": "horizontal",
            "min": 0,
            "description_tooltip": null,
            "_model_module": "@jupyter-widgets/controls",
            "layout": "IPY_MODEL_a0a4e9c8765543eab48b5d9e923f6b4b"
          }
        },
        "33597d5b093b4421bf6de98e9e6c25c9": {
          "model_module": "@jupyter-widgets/controls",
          "model_name": "HTMLModel",
          "state": {
            "_view_name": "HTMLView",
            "style": "IPY_MODEL_89dd665b41004e11acaa4b3a0fe2b5bf",
            "_dom_classes": [],
            "description": "",
            "_model_name": "HTMLModel",
            "placeholder": "​",
            "_view_module": "@jupyter-widgets/controls",
            "_model_module_version": "1.5.0",
            "value": " 235/235 [37:07&lt;00:00,  9.48s/it]",
            "_view_count": null,
            "_view_module_version": "1.5.0",
            "description_tooltip": null,
            "_model_module": "@jupyter-widgets/controls",
            "layout": "IPY_MODEL_3e63eb6443d14b68ae4faad8c63cc3c0"
          }
        },
        "0e37b9e889254621814b169bd8f010b4": {
          "model_module": "@jupyter-widgets/controls",
          "model_name": "ProgressStyleModel",
          "state": {
            "_view_name": "StyleView",
            "_model_name": "ProgressStyleModel",
            "description_width": "initial",
            "_view_module": "@jupyter-widgets/base",
            "_model_module_version": "1.5.0",
            "_view_count": null,
            "_view_module_version": "1.2.0",
            "bar_color": null,
            "_model_module": "@jupyter-widgets/controls"
          }
        },
        "a0a4e9c8765543eab48b5d9e923f6b4b": {
          "model_module": "@jupyter-widgets/base",
          "model_name": "LayoutModel",
          "state": {
            "_view_name": "LayoutView",
            "grid_template_rows": null,
            "right": null,
            "justify_content": null,
            "_view_module": "@jupyter-widgets/base",
            "overflow": null,
            "_model_module_version": "1.2.0",
            "_view_count": null,
            "flex_flow": null,
            "width": null,
            "min_width": null,
            "border": null,
            "align_items": null,
            "bottom": null,
            "_model_module": "@jupyter-widgets/base",
            "top": null,
            "grid_column": null,
            "overflow_y": null,
            "overflow_x": null,
            "grid_auto_flow": null,
            "grid_area": null,
            "grid_template_columns": null,
            "flex": null,
            "_model_name": "LayoutModel",
            "justify_items": null,
            "grid_row": null,
            "max_height": null,
            "align_content": null,
            "visibility": null,
            "align_self": null,
            "height": null,
            "min_height": null,
            "padding": null,
            "grid_auto_rows": null,
            "grid_gap": null,
            "max_width": null,
            "order": null,
            "_view_module_version": "1.2.0",
            "grid_template_areas": null,
            "object_position": null,
            "object_fit": null,
            "grid_auto_columns": null,
            "margin": null,
            "display": null,
            "left": null
          }
        },
        "89dd665b41004e11acaa4b3a0fe2b5bf": {
          "model_module": "@jupyter-widgets/controls",
          "model_name": "DescriptionStyleModel",
          "state": {
            "_view_name": "StyleView",
            "_model_name": "DescriptionStyleModel",
            "description_width": "",
            "_view_module": "@jupyter-widgets/base",
            "_model_module_version": "1.5.0",
            "_view_count": null,
            "_view_module_version": "1.2.0",
            "_model_module": "@jupyter-widgets/controls"
          }
        },
        "3e63eb6443d14b68ae4faad8c63cc3c0": {
          "model_module": "@jupyter-widgets/base",
          "model_name": "LayoutModel",
          "state": {
            "_view_name": "LayoutView",
            "grid_template_rows": null,
            "right": null,
            "justify_content": null,
            "_view_module": "@jupyter-widgets/base",
            "overflow": null,
            "_model_module_version": "1.2.0",
            "_view_count": null,
            "flex_flow": null,
            "width": null,
            "min_width": null,
            "border": null,
            "align_items": null,
            "bottom": null,
            "_model_module": "@jupyter-widgets/base",
            "top": null,
            "grid_column": null,
            "overflow_y": null,
            "overflow_x": null,
            "grid_auto_flow": null,
            "grid_area": null,
            "grid_template_columns": null,
            "flex": null,
            "_model_name": "LayoutModel",
            "justify_items": null,
            "grid_row": null,
            "max_height": null,
            "align_content": null,
            "visibility": null,
            "align_self": null,
            "height": null,
            "min_height": null,
            "padding": null,
            "grid_auto_rows": null,
            "grid_gap": null,
            "max_width": null,
            "order": null,
            "_view_module_version": "1.2.0",
            "grid_template_areas": null,
            "object_position": null,
            "object_fit": null,
            "grid_auto_columns": null,
            "margin": null,
            "display": null,
            "left": null
          }
        },
        "7ec4bc9649b5499c9659363ecca99817": {
          "model_module": "@jupyter-widgets/controls",
          "model_name": "HBoxModel",
          "state": {
            "_view_name": "HBoxView",
            "_dom_classes": [],
            "_model_name": "HBoxModel",
            "_view_module": "@jupyter-widgets/controls",
            "_model_module_version": "1.5.0",
            "_view_count": null,
            "_view_module_version": "1.5.0",
            "box_style": "",
            "layout": "IPY_MODEL_25ef53e1e4e6413eac43c4f62f595bbc",
            "_model_module": "@jupyter-widgets/controls",
            "children": [
              "IPY_MODEL_ea65fea0aba344c4a9dda15b25e9a11e",
              "IPY_MODEL_a3f1d1f341da4c289aa6b8b6904eaf16"
            ]
          }
        },
        "25ef53e1e4e6413eac43c4f62f595bbc": {
          "model_module": "@jupyter-widgets/base",
          "model_name": "LayoutModel",
          "state": {
            "_view_name": "LayoutView",
            "grid_template_rows": null,
            "right": null,
            "justify_content": null,
            "_view_module": "@jupyter-widgets/base",
            "overflow": null,
            "_model_module_version": "1.2.0",
            "_view_count": null,
            "flex_flow": null,
            "width": null,
            "min_width": null,
            "border": null,
            "align_items": null,
            "bottom": null,
            "_model_module": "@jupyter-widgets/base",
            "top": null,
            "grid_column": null,
            "overflow_y": null,
            "overflow_x": null,
            "grid_auto_flow": null,
            "grid_area": null,
            "grid_template_columns": null,
            "flex": null,
            "_model_name": "LayoutModel",
            "justify_items": null,
            "grid_row": null,
            "max_height": null,
            "align_content": null,
            "visibility": null,
            "align_self": null,
            "height": null,
            "min_height": null,
            "padding": null,
            "grid_auto_rows": null,
            "grid_gap": null,
            "max_width": null,
            "order": null,
            "_view_module_version": "1.2.0",
            "grid_template_areas": null,
            "object_position": null,
            "object_fit": null,
            "grid_auto_columns": null,
            "margin": null,
            "display": null,
            "left": null
          }
        },
        "ea65fea0aba344c4a9dda15b25e9a11e": {
          "model_module": "@jupyter-widgets/controls",
          "model_name": "FloatProgressModel",
          "state": {
            "_view_name": "ProgressView",
            "style": "IPY_MODEL_48b1592145a04ed7a14153f8b16022f4",
            "_dom_classes": [],
            "description": "Loss: 1.4775: 100%",
            "_model_name": "FloatProgressModel",
            "bar_style": "success",
            "max": 235,
            "_view_module": "@jupyter-widgets/controls",
            "_model_module_version": "1.5.0",
            "value": 235,
            "_view_count": null,
            "_view_module_version": "1.5.0",
            "orientation": "horizontal",
            "min": 0,
            "description_tooltip": null,
            "_model_module": "@jupyter-widgets/controls",
            "layout": "IPY_MODEL_c68fc248861c46268a9705e98c378034"
          }
        },
        "a3f1d1f341da4c289aa6b8b6904eaf16": {
          "model_module": "@jupyter-widgets/controls",
          "model_name": "HTMLModel",
          "state": {
            "_view_name": "HTMLView",
            "style": "IPY_MODEL_3114a0f05a8d405dbe73b332366f0e0c",
            "_dom_classes": [],
            "description": "",
            "_model_name": "HTMLModel",
            "placeholder": "​",
            "_view_module": "@jupyter-widgets/controls",
            "_model_module_version": "1.5.0",
            "value": " 235/235 [17:54&lt;00:00,  4.57s/it]",
            "_view_count": null,
            "_view_module_version": "1.5.0",
            "description_tooltip": null,
            "_model_module": "@jupyter-widgets/controls",
            "layout": "IPY_MODEL_2b28dba123854821b84a69919c9bde30"
          }
        },
        "48b1592145a04ed7a14153f8b16022f4": {
          "model_module": "@jupyter-widgets/controls",
          "model_name": "ProgressStyleModel",
          "state": {
            "_view_name": "StyleView",
            "_model_name": "ProgressStyleModel",
            "description_width": "initial",
            "_view_module": "@jupyter-widgets/base",
            "_model_module_version": "1.5.0",
            "_view_count": null,
            "_view_module_version": "1.2.0",
            "bar_color": null,
            "_model_module": "@jupyter-widgets/controls"
          }
        },
        "c68fc248861c46268a9705e98c378034": {
          "model_module": "@jupyter-widgets/base",
          "model_name": "LayoutModel",
          "state": {
            "_view_name": "LayoutView",
            "grid_template_rows": null,
            "right": null,
            "justify_content": null,
            "_view_module": "@jupyter-widgets/base",
            "overflow": null,
            "_model_module_version": "1.2.0",
            "_view_count": null,
            "flex_flow": null,
            "width": null,
            "min_width": null,
            "border": null,
            "align_items": null,
            "bottom": null,
            "_model_module": "@jupyter-widgets/base",
            "top": null,
            "grid_column": null,
            "overflow_y": null,
            "overflow_x": null,
            "grid_auto_flow": null,
            "grid_area": null,
            "grid_template_columns": null,
            "flex": null,
            "_model_name": "LayoutModel",
            "justify_items": null,
            "grid_row": null,
            "max_height": null,
            "align_content": null,
            "visibility": null,
            "align_self": null,
            "height": null,
            "min_height": null,
            "padding": null,
            "grid_auto_rows": null,
            "grid_gap": null,
            "max_width": null,
            "order": null,
            "_view_module_version": "1.2.0",
            "grid_template_areas": null,
            "object_position": null,
            "object_fit": null,
            "grid_auto_columns": null,
            "margin": null,
            "display": null,
            "left": null
          }
        },
        "3114a0f05a8d405dbe73b332366f0e0c": {
          "model_module": "@jupyter-widgets/controls",
          "model_name": "DescriptionStyleModel",
          "state": {
            "_view_name": "StyleView",
            "_model_name": "DescriptionStyleModel",
            "description_width": "",
            "_view_module": "@jupyter-widgets/base",
            "_model_module_version": "1.5.0",
            "_view_count": null,
            "_view_module_version": "1.2.0",
            "_model_module": "@jupyter-widgets/controls"
          }
        },
        "2b28dba123854821b84a69919c9bde30": {
          "model_module": "@jupyter-widgets/base",
          "model_name": "LayoutModel",
          "state": {
            "_view_name": "LayoutView",
            "grid_template_rows": null,
            "right": null,
            "justify_content": null,
            "_view_module": "@jupyter-widgets/base",
            "overflow": null,
            "_model_module_version": "1.2.0",
            "_view_count": null,
            "flex_flow": null,
            "width": null,
            "min_width": null,
            "border": null,
            "align_items": null,
            "bottom": null,
            "_model_module": "@jupyter-widgets/base",
            "top": null,
            "grid_column": null,
            "overflow_y": null,
            "overflow_x": null,
            "grid_auto_flow": null,
            "grid_area": null,
            "grid_template_columns": null,
            "flex": null,
            "_model_name": "LayoutModel",
            "justify_items": null,
            "grid_row": null,
            "max_height": null,
            "align_content": null,
            "visibility": null,
            "align_self": null,
            "height": null,
            "min_height": null,
            "padding": null,
            "grid_auto_rows": null,
            "grid_gap": null,
            "max_width": null,
            "order": null,
            "_view_module_version": "1.2.0",
            "grid_template_areas": null,
            "object_position": null,
            "object_fit": null,
            "grid_auto_columns": null,
            "margin": null,
            "display": null,
            "left": null
          }
        },
        "a1a1f68298764d3086c2af2486e35702": {
          "model_module": "@jupyter-widgets/controls",
          "model_name": "HBoxModel",
          "state": {
            "_view_name": "HBoxView",
            "_dom_classes": [],
            "_model_name": "HBoxModel",
            "_view_module": "@jupyter-widgets/controls",
            "_model_module_version": "1.5.0",
            "_view_count": null,
            "_view_module_version": "1.5.0",
            "box_style": "",
            "layout": "IPY_MODEL_b3a366d9118e4532adc82f95d4eef19b",
            "_model_module": "@jupyter-widgets/controls",
            "children": [
              "IPY_MODEL_2a3bfc5077b1498f96600afd791ddc1f",
              "IPY_MODEL_0127b830f9d1457e8fe291a6fa67e6e4"
            ]
          }
        },
        "b3a366d9118e4532adc82f95d4eef19b": {
          "model_module": "@jupyter-widgets/base",
          "model_name": "LayoutModel",
          "state": {
            "_view_name": "LayoutView",
            "grid_template_rows": null,
            "right": null,
            "justify_content": null,
            "_view_module": "@jupyter-widgets/base",
            "overflow": null,
            "_model_module_version": "1.2.0",
            "_view_count": null,
            "flex_flow": null,
            "width": null,
            "min_width": null,
            "border": null,
            "align_items": null,
            "bottom": null,
            "_model_module": "@jupyter-widgets/base",
            "top": null,
            "grid_column": null,
            "overflow_y": null,
            "overflow_x": null,
            "grid_auto_flow": null,
            "grid_area": null,
            "grid_template_columns": null,
            "flex": null,
            "_model_name": "LayoutModel",
            "justify_items": null,
            "grid_row": null,
            "max_height": null,
            "align_content": null,
            "visibility": null,
            "align_self": null,
            "height": null,
            "min_height": null,
            "padding": null,
            "grid_auto_rows": null,
            "grid_gap": null,
            "max_width": null,
            "order": null,
            "_view_module_version": "1.2.0",
            "grid_template_areas": null,
            "object_position": null,
            "object_fit": null,
            "grid_auto_columns": null,
            "margin": null,
            "display": null,
            "left": null
          }
        },
        "2a3bfc5077b1498f96600afd791ddc1f": {
          "model_module": "@jupyter-widgets/controls",
          "model_name": "FloatProgressModel",
          "state": {
            "_view_name": "ProgressView",
            "style": "IPY_MODEL_f8ef34d5e39c41969787e28e73f313ee",
            "_dom_classes": [],
            "description": "Loss: 1.4719: 100%",
            "_model_name": "FloatProgressModel",
            "bar_style": "success",
            "max": 235,
            "_view_module": "@jupyter-widgets/controls",
            "_model_module_version": "1.5.0",
            "value": 235,
            "_view_count": null,
            "_view_module_version": "1.5.0",
            "orientation": "horizontal",
            "min": 0,
            "description_tooltip": null,
            "_model_module": "@jupyter-widgets/controls",
            "layout": "IPY_MODEL_cf1f6d425fa24ea39e6bc26f800f42c6"
          }
        },
        "0127b830f9d1457e8fe291a6fa67e6e4": {
          "model_module": "@jupyter-widgets/controls",
          "model_name": "HTMLModel",
          "state": {
            "_view_name": "HTMLView",
            "style": "IPY_MODEL_5c3838fb68c0486aa67ad574c75073b4",
            "_dom_classes": [],
            "description": "",
            "_model_name": "HTMLModel",
            "placeholder": "​",
            "_view_module": "@jupyter-widgets/controls",
            "_model_module_version": "1.5.0",
            "value": " 235/235 [14:20&lt;00:00,  3.66s/it]",
            "_view_count": null,
            "_view_module_version": "1.5.0",
            "description_tooltip": null,
            "_model_module": "@jupyter-widgets/controls",
            "layout": "IPY_MODEL_0420e0293d59484991e80982cdea762f"
          }
        },
        "f8ef34d5e39c41969787e28e73f313ee": {
          "model_module": "@jupyter-widgets/controls",
          "model_name": "ProgressStyleModel",
          "state": {
            "_view_name": "StyleView",
            "_model_name": "ProgressStyleModel",
            "description_width": "initial",
            "_view_module": "@jupyter-widgets/base",
            "_model_module_version": "1.5.0",
            "_view_count": null,
            "_view_module_version": "1.2.0",
            "bar_color": null,
            "_model_module": "@jupyter-widgets/controls"
          }
        },
        "cf1f6d425fa24ea39e6bc26f800f42c6": {
          "model_module": "@jupyter-widgets/base",
          "model_name": "LayoutModel",
          "state": {
            "_view_name": "LayoutView",
            "grid_template_rows": null,
            "right": null,
            "justify_content": null,
            "_view_module": "@jupyter-widgets/base",
            "overflow": null,
            "_model_module_version": "1.2.0",
            "_view_count": null,
            "flex_flow": null,
            "width": null,
            "min_width": null,
            "border": null,
            "align_items": null,
            "bottom": null,
            "_model_module": "@jupyter-widgets/base",
            "top": null,
            "grid_column": null,
            "overflow_y": null,
            "overflow_x": null,
            "grid_auto_flow": null,
            "grid_area": null,
            "grid_template_columns": null,
            "flex": null,
            "_model_name": "LayoutModel",
            "justify_items": null,
            "grid_row": null,
            "max_height": null,
            "align_content": null,
            "visibility": null,
            "align_self": null,
            "height": null,
            "min_height": null,
            "padding": null,
            "grid_auto_rows": null,
            "grid_gap": null,
            "max_width": null,
            "order": null,
            "_view_module_version": "1.2.0",
            "grid_template_areas": null,
            "object_position": null,
            "object_fit": null,
            "grid_auto_columns": null,
            "margin": null,
            "display": null,
            "left": null
          }
        },
        "5c3838fb68c0486aa67ad574c75073b4": {
          "model_module": "@jupyter-widgets/controls",
          "model_name": "DescriptionStyleModel",
          "state": {
            "_view_name": "StyleView",
            "_model_name": "DescriptionStyleModel",
            "description_width": "",
            "_view_module": "@jupyter-widgets/base",
            "_model_module_version": "1.5.0",
            "_view_count": null,
            "_view_module_version": "1.2.0",
            "_model_module": "@jupyter-widgets/controls"
          }
        },
        "0420e0293d59484991e80982cdea762f": {
          "model_module": "@jupyter-widgets/base",
          "model_name": "LayoutModel",
          "state": {
            "_view_name": "LayoutView",
            "grid_template_rows": null,
            "right": null,
            "justify_content": null,
            "_view_module": "@jupyter-widgets/base",
            "overflow": null,
            "_model_module_version": "1.2.0",
            "_view_count": null,
            "flex_flow": null,
            "width": null,
            "min_width": null,
            "border": null,
            "align_items": null,
            "bottom": null,
            "_model_module": "@jupyter-widgets/base",
            "top": null,
            "grid_column": null,
            "overflow_y": null,
            "overflow_x": null,
            "grid_auto_flow": null,
            "grid_area": null,
            "grid_template_columns": null,
            "flex": null,
            "_model_name": "LayoutModel",
            "justify_items": null,
            "grid_row": null,
            "max_height": null,
            "align_content": null,
            "visibility": null,
            "align_self": null,
            "height": null,
            "min_height": null,
            "padding": null,
            "grid_auto_rows": null,
            "grid_gap": null,
            "max_width": null,
            "order": null,
            "_view_module_version": "1.2.0",
            "grid_template_areas": null,
            "object_position": null,
            "object_fit": null,
            "grid_auto_columns": null,
            "margin": null,
            "display": null,
            "left": null
          }
        },
        "a9a5a70c95ec4e6082e6ec0f0b4b8ca5": {
          "model_module": "@jupyter-widgets/controls",
          "model_name": "HBoxModel",
          "state": {
            "_view_name": "HBoxView",
            "_dom_classes": [],
            "_model_name": "HBoxModel",
            "_view_module": "@jupyter-widgets/controls",
            "_model_module_version": "1.5.0",
            "_view_count": null,
            "_view_module_version": "1.5.0",
            "box_style": "",
            "layout": "IPY_MODEL_8a0452c9e8e14e27bee183023dba339d",
            "_model_module": "@jupyter-widgets/controls",
            "children": [
              "IPY_MODEL_c3543b220f7144119d2d40cf730b8a7f",
              "IPY_MODEL_d90751b1a45a4e48bbbdaf41f6ba10cc"
            ]
          }
        },
        "8a0452c9e8e14e27bee183023dba339d": {
          "model_module": "@jupyter-widgets/base",
          "model_name": "LayoutModel",
          "state": {
            "_view_name": "LayoutView",
            "grid_template_rows": null,
            "right": null,
            "justify_content": null,
            "_view_module": "@jupyter-widgets/base",
            "overflow": null,
            "_model_module_version": "1.2.0",
            "_view_count": null,
            "flex_flow": null,
            "width": null,
            "min_width": null,
            "border": null,
            "align_items": null,
            "bottom": null,
            "_model_module": "@jupyter-widgets/base",
            "top": null,
            "grid_column": null,
            "overflow_y": null,
            "overflow_x": null,
            "grid_auto_flow": null,
            "grid_area": null,
            "grid_template_columns": null,
            "flex": null,
            "_model_name": "LayoutModel",
            "justify_items": null,
            "grid_row": null,
            "max_height": null,
            "align_content": null,
            "visibility": null,
            "align_self": null,
            "height": null,
            "min_height": null,
            "padding": null,
            "grid_auto_rows": null,
            "grid_gap": null,
            "max_width": null,
            "order": null,
            "_view_module_version": "1.2.0",
            "grid_template_areas": null,
            "object_position": null,
            "object_fit": null,
            "grid_auto_columns": null,
            "margin": null,
            "display": null,
            "left": null
          }
        },
        "c3543b220f7144119d2d40cf730b8a7f": {
          "model_module": "@jupyter-widgets/controls",
          "model_name": "FloatProgressModel",
          "state": {
            "_view_name": "ProgressView",
            "style": "IPY_MODEL_125ecb4aa0e640f79543c669bcf07693",
            "_dom_classes": [],
            "description": "Loss: 1.4691: 100%",
            "_model_name": "FloatProgressModel",
            "bar_style": "success",
            "max": 235,
            "_view_module": "@jupyter-widgets/controls",
            "_model_module_version": "1.5.0",
            "value": 235,
            "_view_count": null,
            "_view_module_version": "1.5.0",
            "orientation": "horizontal",
            "min": 0,
            "description_tooltip": null,
            "_model_module": "@jupyter-widgets/controls",
            "layout": "IPY_MODEL_a8b8ba917ebf4d71be8f6ee074ef6484"
          }
        },
        "d90751b1a45a4e48bbbdaf41f6ba10cc": {
          "model_module": "@jupyter-widgets/controls",
          "model_name": "HTMLModel",
          "state": {
            "_view_name": "HTMLView",
            "style": "IPY_MODEL_5b00f9a2797e4042bbf4a40e2c4bd507",
            "_dom_classes": [],
            "description": "",
            "_model_name": "HTMLModel",
            "placeholder": "​",
            "_view_module": "@jupyter-widgets/controls",
            "_model_module_version": "1.5.0",
            "value": " 235/235 [10:46&lt;00:00,  2.75s/it]",
            "_view_count": null,
            "_view_module_version": "1.5.0",
            "description_tooltip": null,
            "_model_module": "@jupyter-widgets/controls",
            "layout": "IPY_MODEL_cc1118e9e3f54d288b0d06db11ce8a4e"
          }
        },
        "125ecb4aa0e640f79543c669bcf07693": {
          "model_module": "@jupyter-widgets/controls",
          "model_name": "ProgressStyleModel",
          "state": {
            "_view_name": "StyleView",
            "_model_name": "ProgressStyleModel",
            "description_width": "initial",
            "_view_module": "@jupyter-widgets/base",
            "_model_module_version": "1.5.0",
            "_view_count": null,
            "_view_module_version": "1.2.0",
            "bar_color": null,
            "_model_module": "@jupyter-widgets/controls"
          }
        },
        "a8b8ba917ebf4d71be8f6ee074ef6484": {
          "model_module": "@jupyter-widgets/base",
          "model_name": "LayoutModel",
          "state": {
            "_view_name": "LayoutView",
            "grid_template_rows": null,
            "right": null,
            "justify_content": null,
            "_view_module": "@jupyter-widgets/base",
            "overflow": null,
            "_model_module_version": "1.2.0",
            "_view_count": null,
            "flex_flow": null,
            "width": null,
            "min_width": null,
            "border": null,
            "align_items": null,
            "bottom": null,
            "_model_module": "@jupyter-widgets/base",
            "top": null,
            "grid_column": null,
            "overflow_y": null,
            "overflow_x": null,
            "grid_auto_flow": null,
            "grid_area": null,
            "grid_template_columns": null,
            "flex": null,
            "_model_name": "LayoutModel",
            "justify_items": null,
            "grid_row": null,
            "max_height": null,
            "align_content": null,
            "visibility": null,
            "align_self": null,
            "height": null,
            "min_height": null,
            "padding": null,
            "grid_auto_rows": null,
            "grid_gap": null,
            "max_width": null,
            "order": null,
            "_view_module_version": "1.2.0",
            "grid_template_areas": null,
            "object_position": null,
            "object_fit": null,
            "grid_auto_columns": null,
            "margin": null,
            "display": null,
            "left": null
          }
        },
        "5b00f9a2797e4042bbf4a40e2c4bd507": {
          "model_module": "@jupyter-widgets/controls",
          "model_name": "DescriptionStyleModel",
          "state": {
            "_view_name": "StyleView",
            "_model_name": "DescriptionStyleModel",
            "description_width": "",
            "_view_module": "@jupyter-widgets/base",
            "_model_module_version": "1.5.0",
            "_view_count": null,
            "_view_module_version": "1.2.0",
            "_model_module": "@jupyter-widgets/controls"
          }
        },
        "cc1118e9e3f54d288b0d06db11ce8a4e": {
          "model_module": "@jupyter-widgets/base",
          "model_name": "LayoutModel",
          "state": {
            "_view_name": "LayoutView",
            "grid_template_rows": null,
            "right": null,
            "justify_content": null,
            "_view_module": "@jupyter-widgets/base",
            "overflow": null,
            "_model_module_version": "1.2.0",
            "_view_count": null,
            "flex_flow": null,
            "width": null,
            "min_width": null,
            "border": null,
            "align_items": null,
            "bottom": null,
            "_model_module": "@jupyter-widgets/base",
            "top": null,
            "grid_column": null,
            "overflow_y": null,
            "overflow_x": null,
            "grid_auto_flow": null,
            "grid_area": null,
            "grid_template_columns": null,
            "flex": null,
            "_model_name": "LayoutModel",
            "justify_items": null,
            "grid_row": null,
            "max_height": null,
            "align_content": null,
            "visibility": null,
            "align_self": null,
            "height": null,
            "min_height": null,
            "padding": null,
            "grid_auto_rows": null,
            "grid_gap": null,
            "max_width": null,
            "order": null,
            "_view_module_version": "1.2.0",
            "grid_template_areas": null,
            "object_position": null,
            "object_fit": null,
            "grid_auto_columns": null,
            "margin": null,
            "display": null,
            "left": null
          }
        },
        "179b885f1f3b47b8868ede4c42b9a220": {
          "model_module": "@jupyter-widgets/controls",
          "model_name": "HBoxModel",
          "state": {
            "_view_name": "HBoxView",
            "_dom_classes": [],
            "_model_name": "HBoxModel",
            "_view_module": "@jupyter-widgets/controls",
            "_model_module_version": "1.5.0",
            "_view_count": null,
            "_view_module_version": "1.5.0",
            "box_style": "",
            "layout": "IPY_MODEL_441550816aa44dc4827355675cb39146",
            "_model_module": "@jupyter-widgets/controls",
            "children": [
              "IPY_MODEL_10fe9a2ec098488099bd5a7e63fee7ab",
              "IPY_MODEL_b66f1d93196c4ddc9b4fd7b63d1f36c4"
            ]
          }
        },
        "441550816aa44dc4827355675cb39146": {
          "model_module": "@jupyter-widgets/base",
          "model_name": "LayoutModel",
          "state": {
            "_view_name": "LayoutView",
            "grid_template_rows": null,
            "right": null,
            "justify_content": null,
            "_view_module": "@jupyter-widgets/base",
            "overflow": null,
            "_model_module_version": "1.2.0",
            "_view_count": null,
            "flex_flow": null,
            "width": null,
            "min_width": null,
            "border": null,
            "align_items": null,
            "bottom": null,
            "_model_module": "@jupyter-widgets/base",
            "top": null,
            "grid_column": null,
            "overflow_y": null,
            "overflow_x": null,
            "grid_auto_flow": null,
            "grid_area": null,
            "grid_template_columns": null,
            "flex": null,
            "_model_name": "LayoutModel",
            "justify_items": null,
            "grid_row": null,
            "max_height": null,
            "align_content": null,
            "visibility": null,
            "align_self": null,
            "height": null,
            "min_height": null,
            "padding": null,
            "grid_auto_rows": null,
            "grid_gap": null,
            "max_width": null,
            "order": null,
            "_view_module_version": "1.2.0",
            "grid_template_areas": null,
            "object_position": null,
            "object_fit": null,
            "grid_auto_columns": null,
            "margin": null,
            "display": null,
            "left": null
          }
        },
        "10fe9a2ec098488099bd5a7e63fee7ab": {
          "model_module": "@jupyter-widgets/controls",
          "model_name": "FloatProgressModel",
          "state": {
            "_view_name": "ProgressView",
            "style": "IPY_MODEL_90c6beaf483b437792804aa9083d364c",
            "_dom_classes": [],
            "description": "Loss: 1.4673: 100%",
            "_model_name": "FloatProgressModel",
            "bar_style": "success",
            "max": 235,
            "_view_module": "@jupyter-widgets/controls",
            "_model_module_version": "1.5.0",
            "value": 235,
            "_view_count": null,
            "_view_module_version": "1.5.0",
            "orientation": "horizontal",
            "min": 0,
            "description_tooltip": null,
            "_model_module": "@jupyter-widgets/controls",
            "layout": "IPY_MODEL_469762880082406cab9d75d0808f0745"
          }
        },
        "b66f1d93196c4ddc9b4fd7b63d1f36c4": {
          "model_module": "@jupyter-widgets/controls",
          "model_name": "HTMLModel",
          "state": {
            "_view_name": "HTMLView",
            "style": "IPY_MODEL_5482958ac49a43f4abbb1d56a44e71a3",
            "_dom_classes": [],
            "description": "",
            "_model_name": "HTMLModel",
            "placeholder": "​",
            "_view_module": "@jupyter-widgets/controls",
            "_model_module_version": "1.5.0",
            "value": " 235/235 [22:53&lt;00:00,  5.84s/it]",
            "_view_count": null,
            "_view_module_version": "1.5.0",
            "description_tooltip": null,
            "_model_module": "@jupyter-widgets/controls",
            "layout": "IPY_MODEL_43180d32bb0340c2a940527e53e3e73f"
          }
        },
        "90c6beaf483b437792804aa9083d364c": {
          "model_module": "@jupyter-widgets/controls",
          "model_name": "ProgressStyleModel",
          "state": {
            "_view_name": "StyleView",
            "_model_name": "ProgressStyleModel",
            "description_width": "initial",
            "_view_module": "@jupyter-widgets/base",
            "_model_module_version": "1.5.0",
            "_view_count": null,
            "_view_module_version": "1.2.0",
            "bar_color": null,
            "_model_module": "@jupyter-widgets/controls"
          }
        },
        "469762880082406cab9d75d0808f0745": {
          "model_module": "@jupyter-widgets/base",
          "model_name": "LayoutModel",
          "state": {
            "_view_name": "LayoutView",
            "grid_template_rows": null,
            "right": null,
            "justify_content": null,
            "_view_module": "@jupyter-widgets/base",
            "overflow": null,
            "_model_module_version": "1.2.0",
            "_view_count": null,
            "flex_flow": null,
            "width": null,
            "min_width": null,
            "border": null,
            "align_items": null,
            "bottom": null,
            "_model_module": "@jupyter-widgets/base",
            "top": null,
            "grid_column": null,
            "overflow_y": null,
            "overflow_x": null,
            "grid_auto_flow": null,
            "grid_area": null,
            "grid_template_columns": null,
            "flex": null,
            "_model_name": "LayoutModel",
            "justify_items": null,
            "grid_row": null,
            "max_height": null,
            "align_content": null,
            "visibility": null,
            "align_self": null,
            "height": null,
            "min_height": null,
            "padding": null,
            "grid_auto_rows": null,
            "grid_gap": null,
            "max_width": null,
            "order": null,
            "_view_module_version": "1.2.0",
            "grid_template_areas": null,
            "object_position": null,
            "object_fit": null,
            "grid_auto_columns": null,
            "margin": null,
            "display": null,
            "left": null
          }
        },
        "5482958ac49a43f4abbb1d56a44e71a3": {
          "model_module": "@jupyter-widgets/controls",
          "model_name": "DescriptionStyleModel",
          "state": {
            "_view_name": "StyleView",
            "_model_name": "DescriptionStyleModel",
            "description_width": "",
            "_view_module": "@jupyter-widgets/base",
            "_model_module_version": "1.5.0",
            "_view_count": null,
            "_view_module_version": "1.2.0",
            "_model_module": "@jupyter-widgets/controls"
          }
        },
        "43180d32bb0340c2a940527e53e3e73f": {
          "model_module": "@jupyter-widgets/base",
          "model_name": "LayoutModel",
          "state": {
            "_view_name": "LayoutView",
            "grid_template_rows": null,
            "right": null,
            "justify_content": null,
            "_view_module": "@jupyter-widgets/base",
            "overflow": null,
            "_model_module_version": "1.2.0",
            "_view_count": null,
            "flex_flow": null,
            "width": null,
            "min_width": null,
            "border": null,
            "align_items": null,
            "bottom": null,
            "_model_module": "@jupyter-widgets/base",
            "top": null,
            "grid_column": null,
            "overflow_y": null,
            "overflow_x": null,
            "grid_auto_flow": null,
            "grid_area": null,
            "grid_template_columns": null,
            "flex": null,
            "_model_name": "LayoutModel",
            "justify_items": null,
            "grid_row": null,
            "max_height": null,
            "align_content": null,
            "visibility": null,
            "align_self": null,
            "height": null,
            "min_height": null,
            "padding": null,
            "grid_auto_rows": null,
            "grid_gap": null,
            "max_width": null,
            "order": null,
            "_view_module_version": "1.2.0",
            "grid_template_areas": null,
            "object_position": null,
            "object_fit": null,
            "grid_auto_columns": null,
            "margin": null,
            "display": null,
            "left": null
          }
        },
        "ffe3e24729364c2380f830059582914e": {
          "model_module": "@jupyter-widgets/controls",
          "model_name": "HBoxModel",
          "state": {
            "_view_name": "HBoxView",
            "_dom_classes": [],
            "_model_name": "HBoxModel",
            "_view_module": "@jupyter-widgets/controls",
            "_model_module_version": "1.5.0",
            "_view_count": null,
            "_view_module_version": "1.5.0",
            "box_style": "",
            "layout": "IPY_MODEL_1ddb1fc5b4324c4b9b42c4442bf1d5fd",
            "_model_module": "@jupyter-widgets/controls",
            "children": [
              "IPY_MODEL_0d0c2da733ef4b349bd05399c2b31025",
              "IPY_MODEL_7ee47b791bf5427fa9b84892175f2472"
            ]
          }
        },
        "1ddb1fc5b4324c4b9b42c4442bf1d5fd": {
          "model_module": "@jupyter-widgets/base",
          "model_name": "LayoutModel",
          "state": {
            "_view_name": "LayoutView",
            "grid_template_rows": null,
            "right": null,
            "justify_content": null,
            "_view_module": "@jupyter-widgets/base",
            "overflow": null,
            "_model_module_version": "1.2.0",
            "_view_count": null,
            "flex_flow": null,
            "width": null,
            "min_width": null,
            "border": null,
            "align_items": null,
            "bottom": null,
            "_model_module": "@jupyter-widgets/base",
            "top": null,
            "grid_column": null,
            "overflow_y": null,
            "overflow_x": null,
            "grid_auto_flow": null,
            "grid_area": null,
            "grid_template_columns": null,
            "flex": null,
            "_model_name": "LayoutModel",
            "justify_items": null,
            "grid_row": null,
            "max_height": null,
            "align_content": null,
            "visibility": null,
            "align_self": null,
            "height": null,
            "min_height": null,
            "padding": null,
            "grid_auto_rows": null,
            "grid_gap": null,
            "max_width": null,
            "order": null,
            "_view_module_version": "1.2.0",
            "grid_template_areas": null,
            "object_position": null,
            "object_fit": null,
            "grid_auto_columns": null,
            "margin": null,
            "display": null,
            "left": null
          }
        },
        "0d0c2da733ef4b349bd05399c2b31025": {
          "model_module": "@jupyter-widgets/controls",
          "model_name": "FloatProgressModel",
          "state": {
            "_view_name": "ProgressView",
            "style": "IPY_MODEL_ec50cba55b0e40c9b6547572e6f51276",
            "_dom_classes": [],
            "description": "Loss:  50%",
            "_model_name": "FloatProgressModel",
            "bar_style": "danger",
            "max": 60000,
            "_view_module": "@jupyter-widgets/controls",
            "_model_module_version": "1.5.0",
            "value": 30001,
            "_view_count": null,
            "_view_module_version": "1.5.0",
            "orientation": "horizontal",
            "min": 0,
            "description_tooltip": null,
            "_model_module": "@jupyter-widgets/controls",
            "layout": "IPY_MODEL_a456f59f3a1f46118fd75f3bd9c7c50a"
          }
        },
        "7ee47b791bf5427fa9b84892175f2472": {
          "model_module": "@jupyter-widgets/controls",
          "model_name": "HTMLModel",
          "state": {
            "_view_name": "HTMLView",
            "style": "IPY_MODEL_cf5fb054e02142968622fe82999de90a",
            "_dom_classes": [],
            "description": "",
            "_model_name": "HTMLModel",
            "placeholder": "​",
            "_view_module": "@jupyter-widgets/controls",
            "_model_module_version": "1.5.0",
            "value": " 30001/60000 [34:07&lt;34:25, 14.52it/s]",
            "_view_count": null,
            "_view_module_version": "1.5.0",
            "description_tooltip": null,
            "_model_module": "@jupyter-widgets/controls",
            "layout": "IPY_MODEL_add30c951b204b5b80718768517753ec"
          }
        },
        "ec50cba55b0e40c9b6547572e6f51276": {
          "model_module": "@jupyter-widgets/controls",
          "model_name": "ProgressStyleModel",
          "state": {
            "_view_name": "StyleView",
            "_model_name": "ProgressStyleModel",
            "description_width": "initial",
            "_view_module": "@jupyter-widgets/base",
            "_model_module_version": "1.5.0",
            "_view_count": null,
            "_view_module_version": "1.2.0",
            "bar_color": null,
            "_model_module": "@jupyter-widgets/controls"
          }
        },
        "a456f59f3a1f46118fd75f3bd9c7c50a": {
          "model_module": "@jupyter-widgets/base",
          "model_name": "LayoutModel",
          "state": {
            "_view_name": "LayoutView",
            "grid_template_rows": null,
            "right": null,
            "justify_content": null,
            "_view_module": "@jupyter-widgets/base",
            "overflow": null,
            "_model_module_version": "1.2.0",
            "_view_count": null,
            "flex_flow": null,
            "width": null,
            "min_width": null,
            "border": null,
            "align_items": null,
            "bottom": null,
            "_model_module": "@jupyter-widgets/base",
            "top": null,
            "grid_column": null,
            "overflow_y": null,
            "overflow_x": null,
            "grid_auto_flow": null,
            "grid_area": null,
            "grid_template_columns": null,
            "flex": null,
            "_model_name": "LayoutModel",
            "justify_items": null,
            "grid_row": null,
            "max_height": null,
            "align_content": null,
            "visibility": null,
            "align_self": null,
            "height": null,
            "min_height": null,
            "padding": null,
            "grid_auto_rows": null,
            "grid_gap": null,
            "max_width": null,
            "order": null,
            "_view_module_version": "1.2.0",
            "grid_template_areas": null,
            "object_position": null,
            "object_fit": null,
            "grid_auto_columns": null,
            "margin": null,
            "display": null,
            "left": null
          }
        },
        "cf5fb054e02142968622fe82999de90a": {
          "model_module": "@jupyter-widgets/controls",
          "model_name": "DescriptionStyleModel",
          "state": {
            "_view_name": "StyleView",
            "_model_name": "DescriptionStyleModel",
            "description_width": "",
            "_view_module": "@jupyter-widgets/base",
            "_model_module_version": "1.5.0",
            "_view_count": null,
            "_view_module_version": "1.2.0",
            "_model_module": "@jupyter-widgets/controls"
          }
        },
        "add30c951b204b5b80718768517753ec": {
          "model_module": "@jupyter-widgets/base",
          "model_name": "LayoutModel",
          "state": {
            "_view_name": "LayoutView",
            "grid_template_rows": null,
            "right": null,
            "justify_content": null,
            "_view_module": "@jupyter-widgets/base",
            "overflow": null,
            "_model_module_version": "1.2.0",
            "_view_count": null,
            "flex_flow": null,
            "width": null,
            "min_width": null,
            "border": null,
            "align_items": null,
            "bottom": null,
            "_model_module": "@jupyter-widgets/base",
            "top": null,
            "grid_column": null,
            "overflow_y": null,
            "overflow_x": null,
            "grid_auto_flow": null,
            "grid_area": null,
            "grid_template_columns": null,
            "flex": null,
            "_model_name": "LayoutModel",
            "justify_items": null,
            "grid_row": null,
            "max_height": null,
            "align_content": null,
            "visibility": null,
            "align_self": null,
            "height": null,
            "min_height": null,
            "padding": null,
            "grid_auto_rows": null,
            "grid_gap": null,
            "max_width": null,
            "order": null,
            "_view_module_version": "1.2.0",
            "grid_template_areas": null,
            "object_position": null,
            "object_fit": null,
            "grid_auto_columns": null,
            "margin": null,
            "display": null,
            "left": null
          }
        },
        "ef6c47e7a0b44fbeb2e90b3316febfa3": {
          "model_module": "@jupyter-widgets/controls",
          "model_name": "HBoxModel",
          "state": {
            "_view_name": "HBoxView",
            "_dom_classes": [],
            "_model_name": "HBoxModel",
            "_view_module": "@jupyter-widgets/controls",
            "_model_module_version": "1.5.0",
            "_view_count": null,
            "_view_module_version": "1.5.0",
            "box_style": "",
            "layout": "IPY_MODEL_f117241e5c194115a4f0cbc5c21e0d97",
            "_model_module": "@jupyter-widgets/controls",
            "children": [
              "IPY_MODEL_e5d7c12edcfb4e12b6d0fedb4a84048a",
              "IPY_MODEL_7b7248fc001e471b8043d6c5a78e514a"
            ]
          }
        },
        "f117241e5c194115a4f0cbc5c21e0d97": {
          "model_module": "@jupyter-widgets/base",
          "model_name": "LayoutModel",
          "state": {
            "_view_name": "LayoutView",
            "grid_template_rows": null,
            "right": null,
            "justify_content": null,
            "_view_module": "@jupyter-widgets/base",
            "overflow": null,
            "_model_module_version": "1.2.0",
            "_view_count": null,
            "flex_flow": null,
            "width": null,
            "min_width": null,
            "border": null,
            "align_items": null,
            "bottom": null,
            "_model_module": "@jupyter-widgets/base",
            "top": null,
            "grid_column": null,
            "overflow_y": null,
            "overflow_x": null,
            "grid_auto_flow": null,
            "grid_area": null,
            "grid_template_columns": null,
            "flex": null,
            "_model_name": "LayoutModel",
            "justify_items": null,
            "grid_row": null,
            "max_height": null,
            "align_content": null,
            "visibility": null,
            "align_self": null,
            "height": null,
            "min_height": null,
            "padding": null,
            "grid_auto_rows": null,
            "grid_gap": null,
            "max_width": null,
            "order": null,
            "_view_module_version": "1.2.0",
            "grid_template_areas": null,
            "object_position": null,
            "object_fit": null,
            "grid_auto_columns": null,
            "margin": null,
            "display": null,
            "left": null
          }
        },
        "e5d7c12edcfb4e12b6d0fedb4a84048a": {
          "model_module": "@jupyter-widgets/controls",
          "model_name": "FloatProgressModel",
          "state": {
            "_view_name": "ProgressView",
            "style": "IPY_MODEL_2438b3a6b476499db02010560a41b97a",
            "_dom_classes": [],
            "description": "Loss:  15%",
            "_model_name": "FloatProgressModel",
            "bar_style": "danger",
            "max": 60000,
            "_view_module": "@jupyter-widgets/controls",
            "_model_module_version": "1.5.0",
            "value": 8999,
            "_view_count": null,
            "_view_module_version": "1.5.0",
            "orientation": "horizontal",
            "min": 0,
            "description_tooltip": null,
            "_model_module": "@jupyter-widgets/controls",
            "layout": "IPY_MODEL_f18b64cc8cd04703939e17bfaa6036b6"
          }
        },
        "7b7248fc001e471b8043d6c5a78e514a": {
          "model_module": "@jupyter-widgets/controls",
          "model_name": "HTMLModel",
          "state": {
            "_view_name": "HTMLView",
            "style": "IPY_MODEL_31aa351d05a546139455b0d7289b4e02",
            "_dom_classes": [],
            "description": "",
            "_model_name": "HTMLModel",
            "placeholder": "​",
            "_view_module": "@jupyter-widgets/controls",
            "_model_module_version": "1.5.0",
            "value": " 8999/60000 [10:45&lt;59:14, 14.35it/s]",
            "_view_count": null,
            "_view_module_version": "1.5.0",
            "description_tooltip": null,
            "_model_module": "@jupyter-widgets/controls",
            "layout": "IPY_MODEL_c48ffc0e259143c9acf1d028c8c9e2ed"
          }
        },
        "2438b3a6b476499db02010560a41b97a": {
          "model_module": "@jupyter-widgets/controls",
          "model_name": "ProgressStyleModel",
          "state": {
            "_view_name": "StyleView",
            "_model_name": "ProgressStyleModel",
            "description_width": "initial",
            "_view_module": "@jupyter-widgets/base",
            "_model_module_version": "1.5.0",
            "_view_count": null,
            "_view_module_version": "1.2.0",
            "bar_color": null,
            "_model_module": "@jupyter-widgets/controls"
          }
        },
        "f18b64cc8cd04703939e17bfaa6036b6": {
          "model_module": "@jupyter-widgets/base",
          "model_name": "LayoutModel",
          "state": {
            "_view_name": "LayoutView",
            "grid_template_rows": null,
            "right": null,
            "justify_content": null,
            "_view_module": "@jupyter-widgets/base",
            "overflow": null,
            "_model_module_version": "1.2.0",
            "_view_count": null,
            "flex_flow": null,
            "width": null,
            "min_width": null,
            "border": null,
            "align_items": null,
            "bottom": null,
            "_model_module": "@jupyter-widgets/base",
            "top": null,
            "grid_column": null,
            "overflow_y": null,
            "overflow_x": null,
            "grid_auto_flow": null,
            "grid_area": null,
            "grid_template_columns": null,
            "flex": null,
            "_model_name": "LayoutModel",
            "justify_items": null,
            "grid_row": null,
            "max_height": null,
            "align_content": null,
            "visibility": null,
            "align_self": null,
            "height": null,
            "min_height": null,
            "padding": null,
            "grid_auto_rows": null,
            "grid_gap": null,
            "max_width": null,
            "order": null,
            "_view_module_version": "1.2.0",
            "grid_template_areas": null,
            "object_position": null,
            "object_fit": null,
            "grid_auto_columns": null,
            "margin": null,
            "display": null,
            "left": null
          }
        },
        "31aa351d05a546139455b0d7289b4e02": {
          "model_module": "@jupyter-widgets/controls",
          "model_name": "DescriptionStyleModel",
          "state": {
            "_view_name": "StyleView",
            "_model_name": "DescriptionStyleModel",
            "description_width": "",
            "_view_module": "@jupyter-widgets/base",
            "_model_module_version": "1.5.0",
            "_view_count": null,
            "_view_module_version": "1.2.0",
            "_model_module": "@jupyter-widgets/controls"
          }
        },
        "c48ffc0e259143c9acf1d028c8c9e2ed": {
          "model_module": "@jupyter-widgets/base",
          "model_name": "LayoutModel",
          "state": {
            "_view_name": "LayoutView",
            "grid_template_rows": null,
            "right": null,
            "justify_content": null,
            "_view_module": "@jupyter-widgets/base",
            "overflow": null,
            "_model_module_version": "1.2.0",
            "_view_count": null,
            "flex_flow": null,
            "width": null,
            "min_width": null,
            "border": null,
            "align_items": null,
            "bottom": null,
            "_model_module": "@jupyter-widgets/base",
            "top": null,
            "grid_column": null,
            "overflow_y": null,
            "overflow_x": null,
            "grid_auto_flow": null,
            "grid_area": null,
            "grid_template_columns": null,
            "flex": null,
            "_model_name": "LayoutModel",
            "justify_items": null,
            "grid_row": null,
            "max_height": null,
            "align_content": null,
            "visibility": null,
            "align_self": null,
            "height": null,
            "min_height": null,
            "padding": null,
            "grid_auto_rows": null,
            "grid_gap": null,
            "max_width": null,
            "order": null,
            "_view_module_version": "1.2.0",
            "grid_template_areas": null,
            "object_position": null,
            "object_fit": null,
            "grid_auto_columns": null,
            "margin": null,
            "display": null,
            "left": null
          }
        }
      }
    }
  },
  "cells": [
    {
      "cell_type": "markdown",
      "metadata": {
        "id": "view-in-github",
        "colab_type": "text"
      },
      "source": [
        "<a href=\"https://colab.research.google.com/github/ashaaher/Emerging-Technologies/blob/master/Assignment%201/Assignment_1_Part_1/Part_1_MIL.ipynb\" target=\"_parent\"><img src=\"https://colab.research.google.com/assets/colab-badge.svg\" alt=\"Open In Colab\"/></a>"
      ]
    },
    {
      "cell_type": "markdown",
      "metadata": {
        "id": "rYVJY2gwUbs5",
        "colab_type": "text"
      },
      "source": [
        "# **Multiple instance learning (MIL)** \n",
        "MIL is a form of weakly supervised learning where we can arrange the \n",
        "training instances in sets, called bags, and a label is given for the\n",
        "entire bag.\n",
        "\n",
        "In Simple case of MIL classification, if all the instances are negative , then the bag may be labeled negative and on the other hand, the bag is labeled positive if there is at least one instance positive.\n",
        "\n",
        "\n",
        "This Collab uses MNIST dataset for Multiple Instace Learning demonstration."
      ]
    },
    {
      "cell_type": "markdown",
      "metadata": {
        "id": "Om1t5KlYW0yv",
        "colab_type": "text"
      },
      "source": [
        "1.   **Importing All the Libraries**\n",
        "\n",
        "\n"
      ]
    },
    {
      "cell_type": "code",
      "metadata": {
        "id": "6MWnkpMUUfQ7",
        "colab_type": "code",
        "colab": {}
      },
      "source": [
        "import os\n",
        "import datetime\n",
        "import copy\n",
        "import re\n",
        "import yaml\n",
        "import uuid\n",
        "import warnings\n",
        "import time\n",
        "import inspect\n",
        "import numpy as np\n",
        "import pandas as pd\n",
        "from functools import partial, reduce\n",
        "from random import shuffle\n",
        "import random\n",
        "import torch\n",
        "from torch import nn, optim\n",
        "from torch import nn\n",
        "from torch.nn import functional as F\n",
        "from torch.utils.data.dataset import Dataset\n",
        "from torch.utils.data import DataLoader\n",
        "from torch.utils.data import DataLoader\n",
        "from torchvision.models import resnet\n",
        "from torchvision.transforms import Compose, ToTensor, Normalize, Resize\n",
        "from torchvision.models.resnet import ResNet, BasicBlock\n",
        "from torchvision.datasets import MNIST\n",
        "import tensorflow as tf\n",
        "from tqdm.autonotebook import tqdm\n",
        "from sklearn.metrics import precision_score, recall_score, f1_score, accuracy_score\n",
        "from sklearn import metrics as mtx\n",
        "from sklearn import model_selection as ms"
      ],
      "execution_count": null,
      "outputs": []
    },
    {
      "cell_type": "markdown",
      "metadata": {
        "id": "WbHZVH_UDSOI",
        "colab_type": "text"
      },
      "source": [
        "2.   **Downloading the dataset and performing preprocessing**\n",
        "\n"
      ]
    },
    {
      "cell_type": "code",
      "metadata": {
        "id": "b8RXdskBEGrW",
        "colab_type": "code",
        "colab": {}
      },
      "source": [
        "def get_data_loaders(train_batch_size, val_batch_size):\n",
        "    mnist = MNIST(download=True, train=True, root=\".\").train_data.float()\n",
        "    \n",
        "    data_transform = Compose([ Resize((224, 224)),ToTensor(), Normalize((mnist.mean()/255,), (mnist.std()/255,))])\n",
        "\n",
        "    train_loader = DataLoader(MNIST(download=True, root=\".\", transform=data_transform, train=True),\n",
        "                              batch_size=train_batch_size, shuffle=True)\n",
        "    val_loader = DataLoader(MNIST(download=False, root=\".\", transform=data_transform, train=False),\n",
        "                            batch_size=val_batch_size, shuffle=False)\n",
        "    return train_loader, val_loader"
      ],
      "execution_count": null,
      "outputs": []
    },
    {
      "cell_type": "code",
      "metadata": {
        "id": "SoHNgoVHEPr2",
        "colab_type": "code",
        "colab": {
          "base_uri": "https://localhost:8080/",
          "height": 51
        },
        "outputId": "b3374b05-81cb-4f59-aba6-0d88e8fb5eba"
      },
      "source": [
        "train_batch_size = 256 # Batch-size of the training data\n",
        "val_batch_size = 256 # Batch-size of the validation data\n",
        "\n",
        "train_loader, valid_loader = get_data_loaders(train_batch_size, val_batch_size)"
      ],
      "execution_count": null,
      "outputs": [
        {
          "output_type": "stream",
          "text": [
            "/usr/local/lib/python3.6/dist-packages/torchvision/datasets/mnist.py:55: UserWarning: train_data has been renamed data\n",
            "  warnings.warn(\"train_data has been renamed data\")\n"
          ],
          "name": "stderr"
        }
      ]
    },
    {
      "cell_type": "markdown",
      "metadata": {
        "id": "UtmEbSs8DZvD",
        "colab_type": "text"
      },
      "source": [
        "3.  **Defining the Model - RESNET model**\n",
        "\n",
        "\n",
        "\n",
        "\n",
        "\n"
      ]
    },
    {
      "cell_type": "code",
      "metadata": {
        "id": "C-caafEaETrO",
        "colab_type": "code",
        "colab": {}
      },
      "source": [
        "class MnistResNet(ResNet):\n",
        "    def __init__(self):\n",
        "        super(MnistResNet, self).__init__(BasicBlock, [2, 2, 2, 2], num_classes=10)\n",
        "        self.conv1 = torch.nn.Conv2d(1, 64, kernel_size=(7, 7), stride=(2, 2), padding=(3, 3), bias=False)\n",
        "        \n",
        "    def forward(self, x):\n",
        "        return torch.softmax(super(MnistResNet, self).forward(x), dim=-1)"
      ],
      "execution_count": null,
      "outputs": []
    },
    {
      "cell_type": "markdown",
      "metadata": {
        "id": "k2BB6fEDDzxD",
        "colab_type": "text"
      },
      "source": [
        "4.      Helper function to Calculate Metrics (accuracy , precision)"
      ]
    },
    {
      "cell_type": "code",
      "metadata": {
        "id": "mb0MrDI9EbWF",
        "colab_type": "code",
        "colab": {}
      },
      "source": [
        "def calculate_metric(metric_fn, true_y, pred_y):\n",
        "    # multi class problems need to have averaging method\n",
        "    if \"average\" in inspect.getfullargspec(metric_fn).args:\n",
        "        return metric_fn(true_y, pred_y, average=\"macro\")\n",
        "    else:\n",
        "        return metric_fn(true_y, pred_y)\n",
        "    \n",
        "def print_scores(p, r, f1, a, batch_size):\n",
        "    # just an utility printing function\n",
        "    for name, scores in zip((\"precision\", \"recall\", \"F1\", \"accuracy\"), (p, r, f1, a)):\n",
        "        print(f\"\\t{name.rjust(14, ' ')}: {sum(scores)/batch_size:.4f}\")"
      ],
      "execution_count": null,
      "outputs": []
    },
    {
      "cell_type": "markdown",
      "metadata": {
        "id": "pWYfvxLrDsGR",
        "colab_type": "text"
      },
      "source": [
        "5. Pre-training The defined model"
      ]
    },
    {
      "cell_type": "code",
      "metadata": {
        "id": "fwcMDnxxEgrs",
        "colab_type": "code",
        "colab": {
          "base_uri": "https://localhost:8080/",
          "height": 792,
          "referenced_widgets": [
            "0636b9e9b714435a9a54daaa63aac2a1",
            "5fe905d5db8a44f0af9c2d5a98a86925",
            "8fb3cc6aaeb8430f95847fad5b57f989",
            "33597d5b093b4421bf6de98e9e6c25c9",
            "0e37b9e889254621814b169bd8f010b4",
            "a0a4e9c8765543eab48b5d9e923f6b4b",
            "89dd665b41004e11acaa4b3a0fe2b5bf",
            "3e63eb6443d14b68ae4faad8c63cc3c0",
            "7ec4bc9649b5499c9659363ecca99817",
            "25ef53e1e4e6413eac43c4f62f595bbc",
            "ea65fea0aba344c4a9dda15b25e9a11e",
            "a3f1d1f341da4c289aa6b8b6904eaf16",
            "48b1592145a04ed7a14153f8b16022f4",
            "c68fc248861c46268a9705e98c378034",
            "3114a0f05a8d405dbe73b332366f0e0c",
            "2b28dba123854821b84a69919c9bde30",
            "a1a1f68298764d3086c2af2486e35702",
            "b3a366d9118e4532adc82f95d4eef19b",
            "2a3bfc5077b1498f96600afd791ddc1f",
            "0127b830f9d1457e8fe291a6fa67e6e4",
            "f8ef34d5e39c41969787e28e73f313ee",
            "cf1f6d425fa24ea39e6bc26f800f42c6",
            "5c3838fb68c0486aa67ad574c75073b4",
            "0420e0293d59484991e80982cdea762f",
            "a9a5a70c95ec4e6082e6ec0f0b4b8ca5",
            "8a0452c9e8e14e27bee183023dba339d",
            "c3543b220f7144119d2d40cf730b8a7f",
            "d90751b1a45a4e48bbbdaf41f6ba10cc",
            "125ecb4aa0e640f79543c669bcf07693",
            "a8b8ba917ebf4d71be8f6ee074ef6484",
            "5b00f9a2797e4042bbf4a40e2c4bd507",
            "cc1118e9e3f54d288b0d06db11ce8a4e",
            "179b885f1f3b47b8868ede4c42b9a220",
            "441550816aa44dc4827355675cb39146",
            "10fe9a2ec098488099bd5a7e63fee7ab",
            "b66f1d93196c4ddc9b4fd7b63d1f36c4",
            "90c6beaf483b437792804aa9083d364c",
            "469762880082406cab9d75d0808f0745",
            "5482958ac49a43f4abbb1d56a44e71a3",
            "43180d32bb0340c2a940527e53e3e73f"
          ]
        },
        "outputId": "26a7a542-c7c2-43c1-bdb9-1c4a61a30408"
      },
      "source": [
        "start_ts = time.time()\n",
        "device = torch.device(\"cuda:0\" if torch.cuda.is_available() else \"cpu\")\n",
        "\n",
        "\n",
        "# model:\n",
        "model = MnistResNet().to(device)\n",
        "\n",
        "# params you need to specify:\n",
        "epochs = 5\n",
        "train_loader, val_loader = get_data_loaders(train_batch_size, val_batch_size)\n",
        "loss_function = nn.CrossEntropyLoss() # your loss function, cross entropy works well for multi-class problems\n",
        "\n",
        "# optimizer, I've used Adadelta, as it wokrs well without any magic numbers\n",
        "optimizer = optim.Adadelta(model.parameters())\n",
        "\n",
        "\n",
        "losses = []\n",
        "batches = len(train_loader)\n",
        "val_batches = len(val_loader)\n",
        "\n",
        "# loop for every epoch (training + evaluation)\n",
        "for epoch in range(epochs):\n",
        "    total_loss = 0\n",
        "\n",
        "    # progress bar (works in Jupyter notebook too!)\n",
        "    progress = tqdm(enumerate(train_loader), desc=\"Loss: \", total=batches)\n",
        "\n",
        "    # ----------------- TRAINING  -------------------- \n",
        "    # set model to training\n",
        "    model.train()\n",
        "    \n",
        "    for i, data in progress:\n",
        "        X, y = data[0].to(device), data[1].to(device)\n",
        "        # training step for single batch\n",
        "        model.zero_grad() # to make sure that all the grads are 0 \n",
        "        \"\"\"\n",
        "        model.zero_grad() and optimizer.zero_grad() are the same \n",
        "        IF all your model parameters are in that optimizer. \n",
        "        I found it is safer to call model.zero_grad() to make sure all grads are zero, \n",
        "        e.g. if you have two or more optimizers for one model.\n",
        "\n",
        "        \"\"\"\n",
        "        outputs = model(X) # forward\n",
        "        loss = loss_function(outputs, y) # get loss\n",
        "        loss.backward() # accumulates the gradient (by addition) for each parameter.\n",
        "        optimizer.step() # performs a parameter update based on the current gradient \n",
        "\n",
        "        # getting training quality data\n",
        "        current_loss = loss.item()\n",
        "        total_loss += current_loss\n",
        "\n",
        "        # updating progress bar\n",
        "        progress.set_description(\"Loss: {:.4f}\".format(total_loss/(i+1)))\n",
        "        \n",
        "    # releasing unceseccary memory in GPU\n",
        "    if torch.cuda.is_available():\n",
        "        torch.cuda.empty_cache()\n",
        "    \n",
        "    # ----------------- VALIDATION  ----------------- \n",
        "    val_losses = 0\n",
        "    precision, recall, f1, accuracy = [], [], [], []\n",
        "    \n",
        "    # set model to evaluating (testing)\n",
        "    model.eval()\n",
        "    with torch.no_grad():\n",
        "        for i, data in enumerate(val_loader):\n",
        "            X, y = data[0].to(device), data[1].to(device)\n",
        "\n",
        "            outputs = model(X) # this get's the prediction from the network\n",
        "\n",
        "            val_losses += loss_function(outputs, y)\n",
        "\n",
        "            predicted_classes = torch.max(outputs, 1)[1] # get class from network's prediction\n",
        "            \n",
        "            # calculate P/R/F1/A metrics for batch\n",
        "            for acc, metric in zip((precision, recall, f1, accuracy), \n",
        "                                   (precision_score, recall_score, f1_score, accuracy_score)):\n",
        "                acc.append(\n",
        "                    calculate_metric(metric, y.cpu(), predicted_classes.cpu())\n",
        "                )\n",
        "          \n",
        "    print(f\"Epoch {epoch+1}/{epochs}, training loss: {total_loss/batches}, validation loss: {val_losses/val_batches}\")\n",
        "    print_scores(precision, recall, f1, accuracy, val_batches)\n",
        "    losses.append(total_loss/batches) # for plotting learning curve\n",
        "print(f\"Training time: {time.time()-start_ts}s\")\n",
        "\n",
        "\n"
      ],
      "execution_count": null,
      "outputs": [
        {
          "output_type": "stream",
          "text": [
            "/usr/local/lib/python3.6/dist-packages/torchvision/datasets/mnist.py:55: UserWarning: train_data has been renamed data\n",
            "  warnings.warn(\"train_data has been renamed data\")\n"
          ],
          "name": "stderr"
        },
        {
          "output_type": "display_data",
          "data": {
            "application/vnd.jupyter.widget-view+json": {
              "model_id": "0636b9e9b714435a9a54daaa63aac2a1",
              "version_minor": 0,
              "version_major": 2
            },
            "text/plain": [
              "HBox(children=(FloatProgress(value=0.0, description='Loss: ', max=235.0, style=ProgressStyle(description_width…"
            ]
          },
          "metadata": {
            "tags": []
          }
        },
        {
          "output_type": "stream",
          "text": [
            "\n",
            "Epoch 1/5, training loss: 1.6272328158642384, validation loss: 1.5678967237472534\n",
            "\t     precision: 0.9296\n",
            "\t        recall: 0.9137\n",
            "\t            F1: 0.9145\n",
            "\t      accuracy: 0.9148\n"
          ],
          "name": "stdout"
        },
        {
          "output_type": "display_data",
          "data": {
            "application/vnd.jupyter.widget-view+json": {
              "model_id": "7ec4bc9649b5499c9659363ecca99817",
              "version_minor": 0,
              "version_major": 2
            },
            "text/plain": [
              "HBox(children=(FloatProgress(value=0.0, description='Loss: ', max=235.0, style=ProgressStyle(description_width…"
            ]
          },
          "metadata": {
            "tags": []
          }
        },
        {
          "output_type": "stream",
          "text": [
            "\n",
            "Epoch 2/5, training loss: 1.4775050695906293, validation loss: 1.5242046117782593\n",
            "\t     precision: 0.9543\n",
            "\t        recall: 0.9429\n",
            "\t            F1: 0.9437\n",
            "\t      accuracy: 0.9446\n"
          ],
          "name": "stdout"
        },
        {
          "output_type": "display_data",
          "data": {
            "application/vnd.jupyter.widget-view+json": {
              "model_id": "a1a1f68298764d3086c2af2486e35702",
              "version_minor": 0,
              "version_major": 2
            },
            "text/plain": [
              "HBox(children=(FloatProgress(value=0.0, description='Loss: ', max=235.0, style=ProgressStyle(description_width…"
            ]
          },
          "metadata": {
            "tags": []
          }
        },
        {
          "output_type": "stream",
          "text": [
            "\n",
            "Epoch 3/5, training loss: 1.4718512377840407, validation loss: 1.4734467267990112\n",
            "\t     precision: 0.9894\n",
            "\t        recall: 0.9892\n",
            "\t            F1: 0.9890\n",
            "\t      accuracy: 0.9893\n"
          ],
          "name": "stdout"
        },
        {
          "output_type": "display_data",
          "data": {
            "application/vnd.jupyter.widget-view+json": {
              "model_id": "a9a5a70c95ec4e6082e6ec0f0b4b8ca5",
              "version_minor": 0,
              "version_major": 2
            },
            "text/plain": [
              "HBox(children=(FloatProgress(value=0.0, description='Loss: ', max=235.0, style=ProgressStyle(description_width…"
            ]
          },
          "metadata": {
            "tags": []
          }
        },
        {
          "output_type": "stream",
          "text": [
            "\n",
            "Epoch 4/5, training loss: 1.4690727375923318, validation loss: 1.4768493175506592\n",
            "\t     precision: 0.9864\n",
            "\t        recall: 0.9856\n",
            "\t            F1: 0.9855\n",
            "\t      accuracy: 0.9859\n"
          ],
          "name": "stdout"
        },
        {
          "output_type": "display_data",
          "data": {
            "application/vnd.jupyter.widget-view+json": {
              "model_id": "179b885f1f3b47b8868ede4c42b9a220",
              "version_minor": 0,
              "version_major": 2
            },
            "text/plain": [
              "HBox(children=(FloatProgress(value=0.0, description='Loss: ', max=235.0, style=ProgressStyle(description_width…"
            ]
          },
          "metadata": {
            "tags": []
          }
        },
        {
          "output_type": "stream",
          "text": [
            "\n"
          ],
          "name": "stdout"
        },
        {
          "output_type": "stream",
          "text": [
            "/usr/local/lib/python3.6/dist-packages/sklearn/metrics/_classification.py:1272: UndefinedMetricWarning: Precision is ill-defined and being set to 0.0 in labels with no predicted samples. Use `zero_division` parameter to control this behavior.\n",
            "  _warn_prf(average, modifier, msg_start, len(result))\n"
          ],
          "name": "stderr"
        },
        {
          "output_type": "stream",
          "text": [
            "Epoch 5/5, training loss: 1.4672996541287036, validation loss: 1.5815008878707886\n",
            "\t     precision: 0.9103\n",
            "\t        recall: 0.8771\n",
            "\t            F1: 0.8540\n",
            "\t      accuracy: 0.8796\n",
            "Training time: 1069.766879081726s\n"
          ],
          "name": "stdout"
        }
      ]
    },
    {
      "cell_type": "markdown",
      "metadata": {
        "id": "z0XhhEFZD8t5",
        "colab_type": "text"
      },
      "source": [
        "6. Saving the pre- trained Model"
      ]
    },
    {
      "cell_type": "code",
      "metadata": {
        "id": "PDMWc96Tx0z9",
        "colab_type": "code",
        "colab": {}
      },
      "source": [
        "torch.save(model.state_dict(), 'mnist_state.pt')"
      ],
      "execution_count": null,
      "outputs": []
    },
    {
      "cell_type": "markdown",
      "metadata": {
        "id": "Jd2bFC-9EBFP",
        "colab_type": "text"
      },
      "source": [
        "## **Data Generation**"
      ]
    },
    {
      "cell_type": "markdown",
      "metadata": {
        "id": "cOTEVfZTEFZZ",
        "colab_type": "text"
      },
      "source": [
        "7. Splitting the data into train and test "
      ]
    },
    {
      "cell_type": "code",
      "metadata": {
        "id": "VE5JWj-1x5XA",
        "colab_type": "code",
        "colab": {}
      },
      "source": [
        "(x_train, y_train), (x_test, y_test) = tf.keras.datasets.mnist.load_data()"
      ],
      "execution_count": null,
      "outputs": []
    },
    {
      "cell_type": "code",
      "metadata": {
        "id": "NzX5MNz6x8po",
        "colab_type": "code",
        "colab": {
          "base_uri": "https://localhost:8080/",
          "height": 34
        },
        "outputId": "3f65bfda-a2ab-40b3-d320-30f83942739b"
      },
      "source": [
        "x_train.shape"
      ],
      "execution_count": null,
      "outputs": [
        {
          "output_type": "execute_result",
          "data": {
            "text/plain": [
              "(60000, 28, 28)"
            ]
          },
          "metadata": {
            "tags": []
          },
          "execution_count": 68
        }
      ]
    },
    {
      "cell_type": "markdown",
      "metadata": {
        "id": "IpSBhQFpYCkV",
        "colab_type": "text"
      },
      "source": [
        "8. Slice and normalize dataset"
      ]
    },
    {
      "cell_type": "code",
      "metadata": {
        "id": "_ZgjURTkx_Zn",
        "colab_type": "code",
        "colab": {}
      },
      "source": [
        "x_train = x_train[:30001]\n",
        "y_train = y_train[:30001]\n",
        "x_test = x_test[:9000]\n",
        "y_test = y_test[:9000]"
      ],
      "execution_count": null,
      "outputs": []
    },
    {
      "cell_type": "markdown",
      "metadata": {
        "id": "SJsdP7nbIa-L",
        "colab_type": "text"
      },
      "source": [
        ""
      ]
    },
    {
      "cell_type": "code",
      "metadata": {
        "id": "zTlZImF-yCg_",
        "colab_type": "code",
        "colab": {
          "base_uri": "https://localhost:8080/",
          "height": 68
        },
        "outputId": "4abb2003-3939-44b1-832c-f0b495ac25cd"
      },
      "source": [
        "x_train = x_train.astype('float32')\n",
        "x_test = x_test.astype('float32')\n",
        "\n",
        "# Normalizing the RGB codes by dividing it to the max RGB value.\n",
        "x_train /= 255\n",
        "x_test /= 255\n",
        "print('x_train shape:', x_train.shape)\n",
        "print('Number of images in x_train', x_train.shape[0])\n",
        "print('Number of images in x_test', x_test.shape[0])\n",
        "\n",
        "\n"
      ],
      "execution_count": null,
      "outputs": [
        {
          "output_type": "stream",
          "text": [
            "x_train shape: (30001, 28, 28)\n",
            "Number of images in x_train 30001\n",
            "Number of images in x_test 9000\n"
          ],
          "name": "stdout"
        }
      ]
    },
    {
      "cell_type": "markdown",
      "metadata": {
        "id": "bogTNn5oEQ1e",
        "colab_type": "text"
      },
      "source": [
        "9.  Create Tuple for Train And Test\n"
      ]
    },
    {
      "cell_type": "code",
      "metadata": {
        "id": "MFO-nG90yGWl",
        "colab_type": "code",
        "colab": {}
      },
      "source": [
        "instance_index_label = [(i, y_train[i]) for i in range(x_train.shape[0])]\n",
        "instance_index_label_test = [(i, y_test[i]) for i in range(x_test.shape[0])]"
      ],
      "execution_count": null,
      "outputs": []
    },
    {
      "cell_type": "code",
      "metadata": {
        "id": "gFpOIIVZyJhO",
        "colab_type": "code",
        "colab": {}
      },
      "source": [
        "# find the index if label is 1\n",
        "find_index = [instance_index_label[i][0] for i in range(len(instance_index_label)) if instance_index_label[i][1]==1]\n",
        "# find the index if label is 1\n",
        "find_index_test = [instance_index_label_test[i][0] for i in range(len(instance_index_label_test))\n",
        "                   if instance_index_label_test[i][1]==1]"
      ],
      "execution_count": null,
      "outputs": []
    },
    {
      "cell_type": "code",
      "metadata": {
        "id": "wOpdJNoKyNqc",
        "colab_type": "code",
        "colab": {
          "base_uri": "https://localhost:8080/",
          "height": 51
        },
        "outputId": "efef3b32-c6d6-4ab8-9c69-d5d22db09704"
      },
      "source": [
        "print('index:', instance_index_label[0][0]) #index\n",
        "print('label:', instance_index_label[0][1]) #label"
      ],
      "execution_count": null,
      "outputs": [
        {
          "output_type": "stream",
          "text": [
            "index: 0\n",
            "label: 5\n"
          ],
          "name": "stdout"
        }
      ]
    },
    {
      "cell_type": "markdown",
      "metadata": {
        "id": "1Wx8_MJfE1Ye",
        "colab_type": "text"
      },
      "source": [
        "10. Load Pretrained Model\n"
      ]
    },
    {
      "cell_type": "code",
      "metadata": {
        "id": "5Np3meYfyQft",
        "colab_type": "code",
        "colab": {}
      },
      "source": [
        "import torch\n",
        "from torchvision.models.resnet import ResNet, BasicBlock\n",
        "class MnistResNet(ResNet):\n",
        "    def __init__(self):\n",
        "        super(MnistResNet, self).__init__(BasicBlock, [2, 2, 2, 2], num_classes=10)\n",
        "        self.conv1 = torch.nn.Conv2d(1, 64, kernel_size=(7, 7), stride=(2, 2), padding=(3, 3), bias=False)\n",
        "        \n",
        "    def forward(self, x):\n",
        "        return torch.softmax(super(MnistResNet, self).forward(x), dim=-1)"
      ],
      "execution_count": null,
      "outputs": []
    },
    {
      "cell_type": "code",
      "metadata": {
        "id": "lDpN7deYyUMM",
        "colab_type": "code",
        "colab": {
          "base_uri": "https://localhost:8080/",
          "height": 1000
        },
        "outputId": "8aeb7185-076b-4b63-890b-888c2df14aee"
      },
      "source": [
        "model = MnistResNet()\n",
        "model.load_state_dict(torch.load('mnist_state.pt'))\n",
        "body = nn.Sequential(*list(model.children()))\n",
        "# extract the last layer\n",
        "model = body[:9]\n",
        "# the model we will use\n",
        "model.eval()"
      ],
      "execution_count": null,
      "outputs": [
        {
          "output_type": "execute_result",
          "data": {
            "text/plain": [
              "Sequential(\n",
              "  (0): Conv2d(1, 64, kernel_size=(7, 7), stride=(2, 2), padding=(3, 3), bias=False)\n",
              "  (1): BatchNorm2d(64, eps=1e-05, momentum=0.1, affine=True, track_running_stats=True)\n",
              "  (2): ReLU(inplace=True)\n",
              "  (3): MaxPool2d(kernel_size=3, stride=2, padding=1, dilation=1, ceil_mode=False)\n",
              "  (4): Sequential(\n",
              "    (0): BasicBlock(\n",
              "      (conv1): Conv2d(64, 64, kernel_size=(3, 3), stride=(1, 1), padding=(1, 1), bias=False)\n",
              "      (bn1): BatchNorm2d(64, eps=1e-05, momentum=0.1, affine=True, track_running_stats=True)\n",
              "      (relu): ReLU(inplace=True)\n",
              "      (conv2): Conv2d(64, 64, kernel_size=(3, 3), stride=(1, 1), padding=(1, 1), bias=False)\n",
              "      (bn2): BatchNorm2d(64, eps=1e-05, momentum=0.1, affine=True, track_running_stats=True)\n",
              "    )\n",
              "    (1): BasicBlock(\n",
              "      (conv1): Conv2d(64, 64, kernel_size=(3, 3), stride=(1, 1), padding=(1, 1), bias=False)\n",
              "      (bn1): BatchNorm2d(64, eps=1e-05, momentum=0.1, affine=True, track_running_stats=True)\n",
              "      (relu): ReLU(inplace=True)\n",
              "      (conv2): Conv2d(64, 64, kernel_size=(3, 3), stride=(1, 1), padding=(1, 1), bias=False)\n",
              "      (bn2): BatchNorm2d(64, eps=1e-05, momentum=0.1, affine=True, track_running_stats=True)\n",
              "    )\n",
              "  )\n",
              "  (5): Sequential(\n",
              "    (0): BasicBlock(\n",
              "      (conv1): Conv2d(64, 128, kernel_size=(3, 3), stride=(2, 2), padding=(1, 1), bias=False)\n",
              "      (bn1): BatchNorm2d(128, eps=1e-05, momentum=0.1, affine=True, track_running_stats=True)\n",
              "      (relu): ReLU(inplace=True)\n",
              "      (conv2): Conv2d(128, 128, kernel_size=(3, 3), stride=(1, 1), padding=(1, 1), bias=False)\n",
              "      (bn2): BatchNorm2d(128, eps=1e-05, momentum=0.1, affine=True, track_running_stats=True)\n",
              "      (downsample): Sequential(\n",
              "        (0): Conv2d(64, 128, kernel_size=(1, 1), stride=(2, 2), bias=False)\n",
              "        (1): BatchNorm2d(128, eps=1e-05, momentum=0.1, affine=True, track_running_stats=True)\n",
              "      )\n",
              "    )\n",
              "    (1): BasicBlock(\n",
              "      (conv1): Conv2d(128, 128, kernel_size=(3, 3), stride=(1, 1), padding=(1, 1), bias=False)\n",
              "      (bn1): BatchNorm2d(128, eps=1e-05, momentum=0.1, affine=True, track_running_stats=True)\n",
              "      (relu): ReLU(inplace=True)\n",
              "      (conv2): Conv2d(128, 128, kernel_size=(3, 3), stride=(1, 1), padding=(1, 1), bias=False)\n",
              "      (bn2): BatchNorm2d(128, eps=1e-05, momentum=0.1, affine=True, track_running_stats=True)\n",
              "    )\n",
              "  )\n",
              "  (6): Sequential(\n",
              "    (0): BasicBlock(\n",
              "      (conv1): Conv2d(128, 256, kernel_size=(3, 3), stride=(2, 2), padding=(1, 1), bias=False)\n",
              "      (bn1): BatchNorm2d(256, eps=1e-05, momentum=0.1, affine=True, track_running_stats=True)\n",
              "      (relu): ReLU(inplace=True)\n",
              "      (conv2): Conv2d(256, 256, kernel_size=(3, 3), stride=(1, 1), padding=(1, 1), bias=False)\n",
              "      (bn2): BatchNorm2d(256, eps=1e-05, momentum=0.1, affine=True, track_running_stats=True)\n",
              "      (downsample): Sequential(\n",
              "        (0): Conv2d(128, 256, kernel_size=(1, 1), stride=(2, 2), bias=False)\n",
              "        (1): BatchNorm2d(256, eps=1e-05, momentum=0.1, affine=True, track_running_stats=True)\n",
              "      )\n",
              "    )\n",
              "    (1): BasicBlock(\n",
              "      (conv1): Conv2d(256, 256, kernel_size=(3, 3), stride=(1, 1), padding=(1, 1), bias=False)\n",
              "      (bn1): BatchNorm2d(256, eps=1e-05, momentum=0.1, affine=True, track_running_stats=True)\n",
              "      (relu): ReLU(inplace=True)\n",
              "      (conv2): Conv2d(256, 256, kernel_size=(3, 3), stride=(1, 1), padding=(1, 1), bias=False)\n",
              "      (bn2): BatchNorm2d(256, eps=1e-05, momentum=0.1, affine=True, track_running_stats=True)\n",
              "    )\n",
              "  )\n",
              "  (7): Sequential(\n",
              "    (0): BasicBlock(\n",
              "      (conv1): Conv2d(256, 512, kernel_size=(3, 3), stride=(2, 2), padding=(1, 1), bias=False)\n",
              "      (bn1): BatchNorm2d(512, eps=1e-05, momentum=0.1, affine=True, track_running_stats=True)\n",
              "      (relu): ReLU(inplace=True)\n",
              "      (conv2): Conv2d(512, 512, kernel_size=(3, 3), stride=(1, 1), padding=(1, 1), bias=False)\n",
              "      (bn2): BatchNorm2d(512, eps=1e-05, momentum=0.1, affine=True, track_running_stats=True)\n",
              "      (downsample): Sequential(\n",
              "        (0): Conv2d(256, 512, kernel_size=(1, 1), stride=(2, 2), bias=False)\n",
              "        (1): BatchNorm2d(512, eps=1e-05, momentum=0.1, affine=True, track_running_stats=True)\n",
              "      )\n",
              "    )\n",
              "    (1): BasicBlock(\n",
              "      (conv1): Conv2d(512, 512, kernel_size=(3, 3), stride=(1, 1), padding=(1, 1), bias=False)\n",
              "      (bn1): BatchNorm2d(512, eps=1e-05, momentum=0.1, affine=True, track_running_stats=True)\n",
              "      (relu): ReLU(inplace=True)\n",
              "      (conv2): Conv2d(512, 512, kernel_size=(3, 3), stride=(1, 1), padding=(1, 1), bias=False)\n",
              "      (bn2): BatchNorm2d(512, eps=1e-05, momentum=0.1, affine=True, track_running_stats=True)\n",
              "    )\n",
              "  )\n",
              "  (8): AdaptiveAvgPool2d(output_size=(1, 1))\n",
              ")"
            ]
          },
          "metadata": {
            "tags": []
          },
          "execution_count": 75
        }
      ]
    },
    {
      "cell_type": "markdown",
      "metadata": {
        "id": "6nDzObmpFA9j",
        "colab_type": "text"
      },
      "source": [
        "11. Getting features for train and test data"
      ]
    },
    {
      "cell_type": "code",
      "metadata": {
        "id": "UBYzWWYsyXHb",
        "colab_type": "code",
        "colab": {
          "base_uri": "https://localhost:8080/",
          "height": 51
        },
        "outputId": "1d8f2549-ab75-4b97-c7f5-b2c9a05fbe53"
      },
      "source": [
        "train_batch_size = 1\n",
        "val_batch_size = 1\n",
        "train_loader, val_loader = get_data_loaders(train_batch_size, val_batch_size)\n",
        "loss_function = nn.CrossEntropyLoss() # your loss function, cross entropy works well for multi-class problems\n",
        "\n",
        "# optimizer\n",
        "optimizer = optim.Adadelta(model.parameters())"
      ],
      "execution_count": null,
      "outputs": [
        {
          "output_type": "stream",
          "text": [
            "/usr/local/lib/python3.6/dist-packages/torchvision/datasets/mnist.py:55: UserWarning: train_data has been renamed data\n",
            "  warnings.warn(\"train_data has been renamed data\")\n"
          ],
          "name": "stderr"
        }
      ]
    },
    {
      "cell_type": "code",
      "metadata": {
        "id": "coSiwQF-yava",
        "colab_type": "code",
        "colab": {}
      },
      "source": [
        "losses = []\n",
        "batches = len(train_loader)\n",
        "val_batches = len(val_loader)"
      ],
      "execution_count": null,
      "outputs": []
    },
    {
      "cell_type": "markdown",
      "metadata": {
        "id": "COtSxo3-FGWp",
        "colab_type": "text"
      },
      "source": [
        "get feature for train"
      ]
    },
    {
      "cell_type": "code",
      "metadata": {
        "id": "W3yUnlADyeC7",
        "colab_type": "code",
        "colab": {
          "base_uri": "https://localhost:8080/",
          "height": 49,
          "referenced_widgets": [
            "ffe3e24729364c2380f830059582914e",
            "1ddb1fc5b4324c4b9b42c4442bf1d5fd",
            "0d0c2da733ef4b349bd05399c2b31025",
            "7ee47b791bf5427fa9b84892175f2472",
            "ec50cba55b0e40c9b6547572e6f51276",
            "a456f59f3a1f46118fd75f3bd9c7c50a",
            "cf5fb054e02142968622fe82999de90a",
            "add30c951b204b5b80718768517753ec"
          ]
        },
        "outputId": "b10d28e3-fbb5-4a71-d432-d159ccf5992b"
      },
      "source": [
        "# loop for every epoch (training + evaluation)\n",
        "meta_table = dict()\n",
        "feature_result = []\n",
        "\n",
        "# progress bar\n",
        "progress = tqdm(enumerate(train_loader), desc=\"Loss: \", total=batches)\n",
        "\n",
        "model.eval()\n",
        "\n",
        "for i, data in progress:\n",
        "    if i==30001:\n",
        "        break\n",
        "    X, y = data[0], data[1]\n",
        "    # training step for single batch\n",
        "    model.zero_grad()\n",
        "    outputs = model(X)\n",
        "    feature_result.append(outputs.reshape(-1).tolist())\n",
        "    meta_table[i] = outputs.reshape(-1).tolist()\n",
        "    \n",
        "feature_array = np.array(feature_result)\n",
        "np.save('feature_array_full',feature_array )\n"
      ],
      "execution_count": null,
      "outputs": [
        {
          "output_type": "display_data",
          "data": {
            "application/vnd.jupyter.widget-view+json": {
              "model_id": "ffe3e24729364c2380f830059582914e",
              "version_minor": 0,
              "version_major": 2
            },
            "text/plain": [
              "HBox(children=(FloatProgress(value=0.0, description='Loss: ', max=60000.0, style=ProgressStyle(description_wid…"
            ]
          },
          "metadata": {
            "tags": []
          }
        }
      ]
    },
    {
      "cell_type": "code",
      "metadata": {
        "id": "fttTbskyymgS",
        "colab_type": "code",
        "colab": {}
      },
      "source": [
        "# load\n",
        "feature_array = np.load('feature_array_full.npy', allow_pickle=True)"
      ],
      "execution_count": null,
      "outputs": []
    },
    {
      "cell_type": "markdown",
      "metadata": {
        "id": "_MNovVIqFTt9",
        "colab_type": "text"
      },
      "source": [
        "Get Feature for test"
      ]
    },
    {
      "cell_type": "code",
      "metadata": {
        "id": "2Sn1PwNm6EFQ",
        "colab_type": "code",
        "colab": {
          "base_uri": "https://localhost:8080/",
          "height": 49,
          "referenced_widgets": [
            "ef6c47e7a0b44fbeb2e90b3316febfa3",
            "f117241e5c194115a4f0cbc5c21e0d97",
            "e5d7c12edcfb4e12b6d0fedb4a84048a",
            "7b7248fc001e471b8043d6c5a78e514a",
            "2438b3a6b476499db02010560a41b97a",
            "f18b64cc8cd04703939e17bfaa6036b6",
            "31aa351d05a546139455b0d7289b4e02",
            "c48ffc0e259143c9acf1d028c8c9e2ed"
          ]
        },
        "outputId": "f5fef314-fe68-4ab6-8372-bff661031655"
      },
      "source": [
        "# loop for every epoch (training + evaluation)\n",
        "meta_t_table = dict()\n",
        "feature_t_result = []\n",
        "\n",
        "# progress bar\n",
        "progress = tqdm(enumerate(val_loader), desc=\"Loss: \", total=batches)\n",
        "\n",
        "model.eval()\n",
        "\n",
        "for i, data in progress:\n",
        "    if i==9000:\n",
        "        break\n",
        "    X, y = data[0], data[1]\n",
        "    # training step for single batch\n",
        "    model.zero_grad()\n",
        "    outputs_t = model(X)\n",
        "    feature_t_result.append(outputs_t.reshape(-1).tolist())\n",
        "    meta_t_table[i] = outputs_t.reshape(-1).tolist()\n",
        "\n",
        "feature_test_array = np.array(feature_t_result)\n",
        "# save \n",
        "np.save('feature_test_array_full',feature_test_array )"
      ],
      "execution_count": null,
      "outputs": [
        {
          "output_type": "display_data",
          "data": {
            "application/vnd.jupyter.widget-view+json": {
              "model_id": "ef6c47e7a0b44fbeb2e90b3316febfa3",
              "version_minor": 0,
              "version_major": 2
            },
            "text/plain": [
              "HBox(children=(FloatProgress(value=0.0, description='Loss: ', max=60000.0, style=ProgressStyle(description_wid…"
            ]
          },
          "metadata": {
            "tags": []
          }
        }
      ]
    },
    {
      "cell_type": "code",
      "metadata": {
        "id": "s_teM6H36mxv",
        "colab_type": "code",
        "colab": {}
      },
      "source": [
        "#load\n",
        "feature_test_array = np.load('feature_test_array_full.npy', allow_pickle=True)"
      ],
      "execution_count": null,
      "outputs": []
    },
    {
      "cell_type": "markdown",
      "metadata": {
        "id": "Nd0rY3j3Zfex",
        "colab_type": "text"
      },
      "source": [
        "12. Generate train dataset"
      ]
    },
    {
      "cell_type": "code",
      "metadata": {
        "id": "e61GMNEP8mqC",
        "colab_type": "code",
        "colab": {}
      },
      "source": [
        "from typing import List, Dict, Tuple\n",
        "def data_generation(instance_index_label: List[Tuple]) -> List[Dict]:\n",
        "  \n",
        "    bag_size = np.random.randint(3,7,size=len(instance_index_label)//5)\n",
        "    data_cp = copy.copy(instance_index_label)\n",
        "    np.random.shuffle(data_cp)\n",
        "    bags = {}\n",
        "    bags_per_instance_labels = {}\n",
        "    bags_labels = {}\n",
        "    for bag_ind, size in enumerate(bag_size):\n",
        "        bags[bag_ind] = []\n",
        "        bags_per_instance_labels[bag_ind] = []\n",
        "        try:\n",
        "            for _ in range(size):\n",
        "                inst_ind, lbl = data_cp.pop()\n",
        "                bags[bag_ind].append(inst_ind)\n",
        "                # simplfy, just use a temporary variable instead of bags_per_instance_labels\n",
        "                bags_per_instance_labels[bag_ind].append(lbl)\n",
        "            bags_labels[bag_ind] = bag_label_from_instance_labels(bags_per_instance_labels[bag_ind])\n",
        "        except:\n",
        "            break\n",
        "    return bags, bags_labels\n",
        "\n",
        "def bag_label_from_instance_labels(instance_labels):\n",
        "    return int(any(((x==1) for x in instance_labels)))"
      ],
      "execution_count": null,
      "outputs": []
    },
    {
      "cell_type": "code",
      "metadata": {
        "id": "D4CjGk-C84JV",
        "colab_type": "code",
        "colab": {}
      },
      "source": [
        "bag_indices, bag_labels = data_generation(instance_index_label)\n",
        "bag_features = {kk: torch.Tensor(feature_array[inds]) for kk, inds in bag_indices.items()}"
      ],
      "execution_count": null,
      "outputs": []
    },
    {
      "cell_type": "code",
      "metadata": {
        "id": "zVN4qQXk87KM",
        "colab_type": "code",
        "colab": {}
      },
      "source": [
        "# save\n",
        "import pickle\n",
        "pickle.dump(bag_indices, open( \"bag_indices\", \"wb\" ) )\n",
        "pickle.dump(bag_labels, open( \"bag_labels\", \"wb\" ) )\n",
        "pickle.dump(bag_features, open( \"bag_features\", \"wb\" ) )"
      ],
      "execution_count": null,
      "outputs": []
    },
    {
      "cell_type": "code",
      "metadata": {
        "id": "YRmlbHit89vr",
        "colab_type": "code",
        "colab": {}
      },
      "source": [
        "import pickle\n",
        "bag_indices = pickle.load( open( \"bag_indices\", \"rb\" ) )\n",
        "bag_labels = pickle.load( open( \"bag_labels\", \"rb\" ) )\n",
        "bag_features = pickle.load( open( \"bag_features\", \"rb\" ) )"
      ],
      "execution_count": null,
      "outputs": []
    },
    {
      "cell_type": "markdown",
      "metadata": {
        "id": "WE5-reNDFw8z",
        "colab_type": "text"
      },
      "source": [
        "Generate Data for test"
      ]
    },
    {
      "cell_type": "code",
      "metadata": {
        "id": "tq8Q8-ll9ASs",
        "colab_type": "code",
        "colab": {}
      },
      "source": [
        "bag_t_indices, bag_t_labels = data_generation(instance_index_label_test)"
      ],
      "execution_count": null,
      "outputs": []
    },
    {
      "cell_type": "code",
      "metadata": {
        "id": "CiN0yqlC9C6b",
        "colab_type": "code",
        "colab": {}
      },
      "source": [
        "bag_t_features = {kk: torch.Tensor(feature_test_array[inds]) for kk, inds in bag_t_indices.items()}"
      ],
      "execution_count": null,
      "outputs": []
    },
    {
      "cell_type": "code",
      "metadata": {
        "id": "jH_VwEmF9F0r",
        "colab_type": "code",
        "colab": {}
      },
      "source": [
        "pickle.dump(bag_t_indices, open( \"bag_t_indices\", \"wb\" ) )\n",
        "pickle.dump(bag_t_labels, open( \"bag_t_labels\", \"wb\" ) )\n",
        "pickle.dump(bag_t_features, open( \"bag_t_features\", \"wb\" ) )"
      ],
      "execution_count": null,
      "outputs": []
    },
    {
      "cell_type": "code",
      "metadata": {
        "id": "YroMGw9F9IgB",
        "colab_type": "code",
        "colab": {}
      },
      "source": [
        "bag_t_indices = pickle.load( open( \"bag_t_indices\", \"rb\" ) )\n",
        "bag_t_labels = pickle.load( open( \"bag_t_labels\", \"rb\" ) )\n",
        "bag_t_features = pickle.load( open( \"bag_t_features\", \"rb\" ) )"
      ],
      "execution_count": null,
      "outputs": []
    },
    {
      "cell_type": "markdown",
      "metadata": {
        "id": "bw2KVEs9GbhR",
        "colab_type": "text"
      },
      "source": [
        "13  Performing Multiple instance learning on MNIST data"
      ]
    },
    {
      "cell_type": "markdown",
      "metadata": {
        "id": "-gz1JNAKGf9A",
        "colab_type": "text"
      },
      "source": [
        "prepare for data model "
      ]
    },
    {
      "cell_type": "code",
      "metadata": {
        "id": "NuiklLDM9Lqg",
        "colab_type": "code",
        "colab": {}
      },
      "source": [
        "from torch.utils.data import Dataset\n",
        "class Transform_data(Dataset):\n",
        "\n",
        "    def __init__(self, data, transform=None):\n",
        "        self.transform = transform\n",
        "        self.data = data\n",
        "        \n",
        "    def __getitem__(self, index):\n",
        "        tensor = self.data[index][0]\n",
        "        if self.transform is not None:\n",
        "            tensor = self.transform(tensor)\n",
        "        return (tensor, self.data[index][1])\n",
        "\n",
        "    def __len__(self):\n",
        "        return len(self.data)"
      ],
      "execution_count": null,
      "outputs": []
    },
    {
      "cell_type": "code",
      "metadata": {
        "id": "eYyh-RkK9Phq",
        "colab_type": "code",
        "colab": {}
      },
      "source": [
        "train_data = [(bag_features[i],bag_labels[i]) for i in range(len(bag_features))]"
      ],
      "execution_count": null,
      "outputs": []
    },
    {
      "cell_type": "code",
      "metadata": {
        "id": "FOpU88fy9SqR",
        "colab_type": "code",
        "colab": {
          "base_uri": "https://localhost:8080/",
          "height": 102
        },
        "outputId": "023fbc8a-6aaa-4579-fe84-dd4820ae7640"
      },
      "source": [
        "bag_features[0]"
      ],
      "execution_count": null,
      "outputs": [
        {
          "output_type": "execute_result",
          "data": {
            "text/plain": [
              "tensor([[1.1266, 1.7076, 0.5292,  ..., 0.3571, 0.2363, 0.3592],\n",
              "        [0.1857, 0.3788, 0.7693,  ..., 3.1763, 0.3171, 0.3492],\n",
              "        [1.9703, 1.5437, 0.1585,  ..., 0.2036, 0.3663, 0.5006],\n",
              "        [2.1801, 0.1673, 0.6907,  ..., 0.2859, 0.5470, 2.6463],\n",
              "        [0.1698, 0.2514, 0.8447,  ..., 2.8011, 0.2394, 0.3921]])"
            ]
          },
          "metadata": {
            "tags": []
          },
          "execution_count": 92
        }
      ]
    },
    {
      "cell_type": "code",
      "metadata": {
        "id": "pfn5tYwi9WCh",
        "colab_type": "code",
        "colab": {}
      },
      "source": [
        "def pad_tensor(data:list, max_number_instance) -> list:\n",
        "    \"\"\"\n",
        "    Since our bag has different sizes, we need to pad each tensor to have the same shape (max: 7).\n",
        "    We will look through each one instance and look at the shape of the tensor, and then we will pad 7-n \n",
        "    to the existing tensor where n is the number of instances in the bag.\n",
        "    The function will return a padded data set.\"\"\"\n",
        "    new_data = []\n",
        "    for bag_index in range(len(data)):\n",
        "        tensor_size = len(data[bag_index][0])\n",
        "        pad_size = max_number_instance - tensor_size\n",
        "        p2d = (0,0, 0, pad_size)\n",
        "        padded = nn.functional.pad(data[bag_index][0], p2d, 'constant', 0)\n",
        "        new_data.append((padded, data[bag_index][1]))\n",
        "    return new_data"
      ],
      "execution_count": null,
      "outputs": []
    },
    {
      "cell_type": "code",
      "metadata": {
        "id": "Jk4G8QK59coe",
        "colab_type": "code",
        "colab": {}
      },
      "source": [
        "max_number_instance = 7\n",
        "padded_train = pad_tensor(train_data, max_number_instance)"
      ],
      "execution_count": null,
      "outputs": []
    },
    {
      "cell_type": "code",
      "metadata": {
        "id": "X4n4IrhR9twe",
        "colab_type": "code",
        "colab": {}
      },
      "source": [
        "test_data = [(bag_t_features[i],bag_t_labels[i]) for i in range(len(bag_t_features))]\n",
        "padded_test = pad_tensor(test_data, max_number_instance)"
      ],
      "execution_count": null,
      "outputs": []
    },
    {
      "cell_type": "code",
      "metadata": {
        "id": "tk23AokQ-nUd",
        "colab_type": "code",
        "colab": {}
      },
      "source": [
        "def get_data_loaders(train_data, test_data, train_batch_size, val_batch_size):\n",
        "    train_loader = DataLoader(train_data, batch_size=train_batch_size, shuffle=True)\n",
        "    val_loader = DataLoader(test_data, batch_size=val_batch_size, shuffle=False)\n",
        "    return train_loader, val_loader"
      ],
      "execution_count": null,
      "outputs": []
    },
    {
      "cell_type": "code",
      "metadata": {
        "id": "tZMRLNPD-ruE",
        "colab_type": "code",
        "colab": {}
      },
      "source": [
        "train_loader,valid_loader = get_data_loaders(padded_train, padded_test, 1, 1)"
      ],
      "execution_count": null,
      "outputs": []
    },
    {
      "cell_type": "code",
      "metadata": {
        "id": "ZeZ-NZCn-uw1",
        "colab_type": "code",
        "colab": {}
      },
      "source": [
        "train_batch_size = 1\n",
        "val_batch_size = 1"
      ],
      "execution_count": null,
      "outputs": []
    },
    {
      "cell_type": "markdown",
      "metadata": {
        "id": "8YAnE-EhmmTD",
        "colab_type": "text"
      },
      "source": [
        "14. Defining the Aggregation Funtion model"
      ]
    },
    {
      "cell_type": "code",
      "metadata": {
        "id": "Pzi3K2wu-xdE",
        "colab_type": "code",
        "colab": {}
      },
      "source": [
        "class SoftMaxMeanSimple(torch.nn.Module):\n",
        "    def __init__(self, n, n_inst, dim=0):\n",
        "        \"\"\"\n",
        "        if dim==1:\n",
        "            given a tensor `x` with dimensions [N * M],\n",
        "            where M -- dimensionality of the featur vector\n",
        "                       (number of features per instance)\n",
        "                  N -- number of instances\n",
        "            initialize with `AggModule(M)`\n",
        "            returns:\n",
        "            - weighted result: [M]\n",
        "            - gate: [N]\n",
        "        if dim==0:\n",
        "            ...\n",
        "        \"\"\"\n",
        "        super(SoftMaxMeanSimple, self).__init__()\n",
        "        self.dim = dim\n",
        "        self.gate = torch.nn.Softmax(dim=self.dim)      \n",
        "        self.mdl_instance_transform = nn.Sequential(\n",
        "                            nn.Linear(n, n_inst),\n",
        "                            nn.LeakyReLU(),\n",
        "                            nn.Linear(n_inst, n),\n",
        "                            nn.LeakyReLU(),\n",
        "                            )\n",
        "    def forward(self, x):\n",
        "        z = self.mdl_instance_transform(x)\n",
        "        if self.dim==0:\n",
        "            z = z.view((z.shape[0],1)).sum(1)\n",
        "        elif self.dim==1:\n",
        "            z = z.view((1, z.shape[1])).sum(0)\n",
        "        gate_ = self.gate(z)\n",
        "        res = torch.sum(x* gate_, self.dim)\n",
        "        return res, gate_\n",
        "\n",
        "    \n",
        "class AttentionSoftMax(torch.nn.Module):\n",
        "    def __init__(self, in_features = 3, out_features = None):\n",
        "        \"\"\"\n",
        "        given a tensor `x` with dimensions [N * M],\n",
        "        where M -- dimensionality of the featur vector\n",
        "                   (number of features per instance)\n",
        "              N -- number of instances\n",
        "        initialize with `AggModule(M)`\n",
        "        returns:\n",
        "        - weighted result: [M]\n",
        "        - gate: [N]\n",
        "        \"\"\"\n",
        "        super(AttentionSoftMax, self).__init__()\n",
        "        self.otherdim = ''\n",
        "        if out_features is None:\n",
        "            out_features = in_features\n",
        "        self.layer_linear_tr = nn.Linear(in_features, out_features)\n",
        "        self.activation = nn.LeakyReLU()\n",
        "        self.layer_linear_query = nn.Linear(out_features, 1)\n",
        "        \n",
        "    def forward(self, x):\n",
        "        keys = self.layer_linear_tr(x)\n",
        "        keys = self.activation(keys)\n",
        "        attention_map_raw = self.layer_linear_query(keys)[...,0]\n",
        "        attention_map = nn.Softmax(dim=-1)(attention_map_raw)\n",
        "        result = torch.einsum(f'{self.otherdim}i,{self.otherdim}ij->{self.otherdim}j', attention_map, x)\n",
        "        return result, attention_map"
      ],
      "execution_count": null,
      "outputs": []
    },
    {
      "cell_type": "markdown",
      "metadata": {
        "id": "mvUVXOi5mzN6",
        "colab_type": "text"
      },
      "source": [
        "15 Defining The  MIL_NN model\n"
      ]
    },
    {
      "cell_type": "code",
      "metadata": {
        "id": "egm0ADl_-2zF",
        "colab_type": "code",
        "colab": {}
      },
      "source": [
        "class NoisyAnd(torch.nn.Module):\n",
        "    def __init__(self, a=10, dims=[1,2]):\n",
        "        super(NoisyAnd, self).__init__()\n",
        "\n",
        "        self.a = a\n",
        "        self.b = torch.nn.Parameter(torch.tensor(0.01))\n",
        "        self.dims =dims\n",
        "        self.sigmoid = nn.Sigmoid()\n",
        "    def forward(self, x):\n",
        "\n",
        "        mean = torch.mean(x, self.dims, True)\n",
        "        res = (self.sigmoid(self.a * (mean - self.b)) - self.sigmoid(-self.a * self.b)) / (\n",
        "              self.sigmoid(self.a * (1 - self.b)) - self.sigmoid(-self.a * self.b))\n",
        "        return res\n",
        "    \n",
        "\n",
        "\n",
        "class NN(torch.nn.Module):\n",
        "\n",
        "    def __init__(self, n=512, n_mid = 1024,\n",
        "                 n_out=1, dropout=0.2,\n",
        "                 scoring = None,\n",
        "                ):\n",
        "        super(NN, self).__init__()\n",
        "        self.linear1 = torch.nn.Linear(n, n_mid)\n",
        "        self.non_linearity = torch.nn.LeakyReLU()\n",
        "        self.linear2 = torch.nn.Linear(n_mid, n_out)\n",
        "        self.dropout = torch.nn.Dropout(dropout)\n",
        "        if scoring:\n",
        "            self.scoring = scoring\n",
        "        else:\n",
        "            self.scoring = torch.nn.Softmax() if n_out>1 else torch.nn.Sigmoid()\n",
        "        \n",
        "    def forward(self, x):\n",
        "        z = self.linear1(x)\n",
        "        z = self.non_linearity(z)\n",
        "        z = self.dropout(z)\n",
        "        z = self.linear2(z)\n",
        "        y_pred = self.scoring(z)\n",
        "        return y_pred\n",
        "    \n",
        "\n",
        "class LogisticRegression(torch.nn.Module):\n",
        "    def __init__(self, n=512, n_out=1):\n",
        "        super(LogisticRegression, self).__init__()\n",
        "        self.linear = torch.nn.Linear(n, n_out)\n",
        "        self.scoring = torch.nn.Softmax() if n_out>1 else torch.nn.Sigmoid()\n",
        "\n",
        "    def forward(self, x):\n",
        "        z = self.linear(x)\n",
        "        y_pred = self.scoring(z)\n",
        "        return y_pred\n",
        "\n",
        "    \n",
        "def regularization_loss(params,\n",
        "                        reg_factor = 0.005,\n",
        "                        reg_alpha = 0.5):\n",
        "    params = [pp for pp in params if len(pp.shape)>1]\n",
        "    l1_reg = nn.L1Loss()\n",
        "    l2_reg = nn.MSELoss()\n",
        "    loss_reg =0\n",
        "    for pp in params:\n",
        "        loss_reg+=reg_factor*((1-reg_alpha)*l1_reg(pp, target=torch.zeros_like(pp)) +\\\n",
        "                           reg_alpha*l2_reg(pp, target=torch.zeros_like(pp)))\n",
        "    return loss_reg\n",
        "\n",
        "class MIL_NN(torch.nn.Module):\n",
        "\n",
        "    def __init__(self, n=7*512,  n_mid=7168, n_out=1, \n",
        "                 n_inst=None, dropout=0.1,\n",
        "                 noisy_a=4,\n",
        "                 agg = NoisyAnd(a=4, dims=[0]),\n",
        "                ):\n",
        "        super(MIL_NN, self).__init__()\n",
        "        if agg is None:\n",
        "            print(\"agg is called \")\n",
        "            agg = NoisyAnd(a=noisy_a, dims=[0])\n",
        "        if n_inst is None:\n",
        "            self.mdl_instance = agg\n",
        "            n_inst = n\n",
        "        else:\n",
        "            self.mdl_instance = nn.Sequential(\n",
        "                            nn.Linear(n, n_inst),\n",
        "                            nn.LeakyReLU(),\n",
        "                            agg,\n",
        "                            )\n",
        "        if n_mid == 0:\n",
        "            self.mdl_bag = LogisticRegression(n_inst, n_out)\n",
        "        else:\n",
        "            self.mdl_bag = NN(n_inst, n_mid, n_out, dropout=dropout)\n",
        "        \n",
        "    def forward(self, bag_feature):\n",
        "\n",
        "        y_pred = self.mdl_bag(bag_feature)\n",
        "        return y_pred\n"
      ],
      "execution_count": null,
      "outputs": []
    },
    {
      "cell_type": "markdown",
      "metadata": {
        "id": "jY-PEVVYm37b",
        "colab_type": "text"
      },
      "source": [
        "16 Defining the helper function"
      ]
    },
    {
      "cell_type": "code",
      "metadata": {
        "id": "vdS0tn3O_H9h",
        "colab_type": "code",
        "colab": {}
      },
      "source": [
        "def calculate_metric(metric_fn, true_y, pred_y):\n",
        "    # multi class problems need to have averaging method\n",
        "    if \"average\" in inspect.getfullargspec(metric_fn).args:\n",
        "        return metric_fn(true_y, pred_y, average=\"macro\")\n",
        "    else:\n",
        "        return metric_fn(true_y, pred_y)\n",
        "    \n",
        "def print_scores(p, r, f1, a, batch_size):\n",
        "    # just an utility printing function\n",
        "    for name, scores in zip((\"precision\", \"recall\", \"F1\", \"accuracy\"), (p, r, f1, a)):\n",
        "        print(f\"\\t{name.rjust(14, ' ')}: {sum(scores)/batch_size:.4f}\")"
      ],
      "execution_count": null,
      "outputs": []
    },
    {
      "cell_type": "markdown",
      "metadata": {
        "id": "hRKC7SLqm7a3",
        "colab_type": "text"
      },
      "source": [
        "17. Train & Test the model"
      ]
    },
    {
      "cell_type": "code",
      "metadata": {
        "id": "f7fXarVdkaez",
        "colab_type": "code",
        "colab": {
          "base_uri": "https://localhost:8080/",
          "referenced_widgets": [
            "d6f754ac3924484584f6057aab7519f0",
            "c306335f7752407c932830397639af0a",
            "5920772aa24041c789b74d53602b6214",
            "c3d53b0227cc43d7ab8f39e7eb6efaeb",
            "85aa921420a04f1c8ef6ccaa3027694c",
            "a8a05648ae324f3f8da9ca498ba32232",
            "5e640d95aa30489bbd8946911609a7c9",
            "c0a100b0a2bf41de9287dd8a7a7bb579",
            "f55185300c2e48df8233899cf5eab24d"
          ]
        },
        "outputId": "add42631-4565-4440-f3f2-576948129b0a"
      },
      "source": [
        "import numpy as np\n",
        "start_ts = time.time()\n",
        "device = torch.device(\"cuda:0\" if torch.cuda.is_available() else \"cpu\")\n",
        "\n",
        "lr0 = 1e-4\n",
        "\n",
        "# model:\n",
        "model = MIL_NN().to(device)\n",
        "\n",
        "# params you need to specify:\n",
        "epochs = 10\n",
        "train_loader, val_loader = get_data_loaders(padded_train, padded_test, 1, 1)\n",
        "loss_function = torch.nn.BCELoss(reduction='mean') # your loss function, cross entropy works well for multi-class problems\n",
        "\n",
        "\n",
        "#optimizer = optim.Adadelta(model.parameters())\n",
        "optimizer = optim.SGD(model.parameters(), lr=lr0, momentum=0.9)\n",
        "\n",
        "losses = []\n",
        "batches = len(train_loader)\n",
        "val_batches = len(val_loader)\n",
        "\n",
        "# loop for every epoch (training + evaluation)\n",
        "for epoch in range(epochs):\n",
        "    total_loss = 0\n",
        "\n",
        "    # progress bar (works in Jupyter notebook too!)\n",
        "    progress = tqdm(enumerate(train_loader), desc=\"Loss: \", total=batches)\n",
        "\n",
        "    # ----------------- TRAINING  -------------------- \n",
        "    # set model to training\n",
        "    model.train()\n",
        "    for i, data in progress:\n",
        "        X, y = data[0].to(device), data[1].to(device)\n",
        "        X = X.reshape([1,7*512])\n",
        "        y = y.type(torch.cuda.FloatTensor)\n",
        "        # training step for single batch\n",
        "        model.zero_grad() # to make sure that all the grads are 0 \n",
        "        \"\"\"\n",
        "        model.zero_grad() and optimizer.zero_grad() are the same \n",
        "        IF all your model parameters are in that optimizer. \n",
        "        I found it is safer to call model.zero_grad() to make sure all grads are zero, \n",
        "        e.g. if you have two or more optimizers for one model.\n",
        "\n",
        "        \"\"\"\n",
        "        outputs = model(X) # forward\n",
        "        loss = loss_function(outputs, y) # get loss\n",
        "        loss.backward() # accumulates the gradient (by addition) for each parameter.\n",
        "        optimizer.step() # performs a parameter update based on the current gradient \n",
        "\n",
        "        # getting training quality data\n",
        "        current_loss = loss.item()\n",
        "        total_loss += current_loss\n",
        "\n",
        "        # updating progress bar\n",
        "        progress.set_description(\"Loss: {:.4f}\".format(total_loss/(i+1)))\n",
        "        \n",
        "    # releasing unceseccary memory in GPU\n",
        "    if torch.cuda.is_available():\n",
        "        torch.cuda.empty_cache()\n",
        "    \n",
        "    # ----------------- VALIDATION  ----------------- \n",
        "    val_losses = 0\n",
        "    precision, recall, f1, accuracy = [], [], [], []\n",
        "    \n",
        "    # set model to evaluating (testing)\n",
        "    model.eval()\n",
        "    with torch.no_grad():\n",
        "        for i, data in enumerate(val_loader):\n",
        "            X, y = data[0].to(device), data[1].to(device)\n",
        "            X = X.reshape([1,7*512])\n",
        "            y = y.type(torch.cuda.FloatTensor)\n",
        "            outputs = model(X) # this get's the prediction from the network\n",
        "            prediced_classes =outputs.detach().round()\n",
        "            #y_pred.extend(prediced_classes.tolist())\n",
        "            val_losses += loss_function(outputs, y)\n",
        "            \n",
        "            # calculate P/R/F1/A metrics for batch\n",
        "            for acc, metric in zip((precision, recall, f1, accuracy), \n",
        "                                   (precision_score, recall_score, f1_score, accuracy_score)):\n",
        "                acc.append(\n",
        "                    calculate_metric(metric, y.cpu(), prediced_classes.cpu())\n",
        "                )\n",
        "          \n",
        "    print(f\"Epoch {epoch+1}/{epochs}, training loss: {total_loss/batches}, validation loss: {val_losses/val_batches}\")\n",
        "    print_scores(precision, recall, f1, accuracy, val_batches)\n",
        "    losses.append(total_loss/batches) # for plotting learning curve\n",
        "print(f\"Training time: {time.time()-start_ts}s\")\n",
        "\n"
      ],
      "execution_count": null,
      "outputs": [
        {
          "output_type": "stream",
          "text": [
            "\n"
          ],
          "name": "stdout"
        },
        {
          "output_type": "stream",
          "text": [
            "/usr/local/lib/python3.6/dist-packages/sklearn/metrics/_classification.py:1272: UndefinedMetricWarning: Precision is ill-defined and being set to 0.0 in labels with no predicted samples. Use `zero_division` parameter to control this behavior.\n",
            "  _warn_prf(average, modifier, msg_start, len(result))\n",
            "/usr/local/lib/python3.6/dist-packages/sklearn/metrics/_classification.py:1272: UndefinedMetricWarning: Recall is ill-defined and being set to 0.0 in labels with no true samples. Use `zero_division` parameter to control this behavior.\n",
            "  _warn_prf(average, modifier, msg_start, len(result))\n"
          ],
          "name": "stderr"
        },
        {
          "output_type": "stream",
          "text": [
            "Epoch 1/10, training loss: 0.7100079178139568, validation loss: 0.72471684217453\n",
            "\t     precision: 0.4978\n",
            "\t        recall: 0.4978\n",
            "\t            F1: 0.4978\n",
            "\t      accuracy: 0.4978\n"
          ],
          "name": "stdout"
        },
        {
          "output_type": "display_data",
          "data": {
            "application/vnd.jupyter.widget-view+json": {
              "model_id": "d6f754ac3924484584f6057aab7519f0",
              "version_minor": 0,
              "version_major": 2
            },
            "text/plain": [
              "HBox(children=(FloatProgress(value=0.0, description='Loss: ', max=6000.0, style=ProgressStyle(description_widt…"
            ]
          },
          "metadata": {
            "tags": []
          }
        },
        {
          "output_type": "stream",
          "text": [
            "\n",
            "Epoch 2/10, training loss: 0.6732832334885994, validation loss: 0.6834292411804199\n",
            "\t     precision: 0.6089\n",
            "\t        recall: 0.6089\n",
            "\t            F1: 0.6089\n",
            "\t      accuracy: 0.6089\n"
          ],
          "name": "stdout"
        },
        {
          "output_type": "display_data",
          "data": {
            "application/vnd.jupyter.widget-view+json": {
              "model_id": "c306335f7752407c932830397639af0a",
              "version_minor": 0,
              "version_major": 2
            },
            "text/plain": [
              "HBox(children=(FloatProgress(value=0.0, description='Loss: ', max=6000.0, style=ProgressStyle(description_widt…"
            ]
          },
          "metadata": {
            "tags": []
          }
        },
        {
          "output_type": "stream",
          "text": [
            "\n",
            "Epoch 3/10, training loss: 0.6601698407145838, validation loss: 0.6837343573570251\n",
            "\t     precision: 0.6050\n",
            "\t        recall: 0.6050\n",
            "\t            F1: 0.6050\n",
            "\t      accuracy: 0.6050\n"
          ],
          "name": "stdout"
        },
        {
          "output_type": "display_data",
          "data": {
            "application/vnd.jupyter.widget-view+json": {
              "model_id": "5920772aa24041c789b74d53602b6214",
              "version_minor": 0,
              "version_major": 2
            },
            "text/plain": [
              "HBox(children=(FloatProgress(value=0.0, description='Loss: ', max=6000.0, style=ProgressStyle(description_widt…"
            ]
          },
          "metadata": {
            "tags": []
          }
        },
        {
          "output_type": "stream",
          "text": [
            "\n",
            "Epoch 4/10, training loss: 0.6545762012364964, validation loss: 0.6685647964477539\n",
            "\t     precision: 0.6017\n",
            "\t        recall: 0.6017\n",
            "\t            F1: 0.6017\n",
            "\t      accuracy: 0.6017\n"
          ],
          "name": "stdout"
        },
        {
          "output_type": "display_data",
          "data": {
            "application/vnd.jupyter.widget-view+json": {
              "model_id": "c3d53b0227cc43d7ab8f39e7eb6efaeb",
              "version_minor": 0,
              "version_major": 2
            },
            "text/plain": [
              "HBox(children=(FloatProgress(value=0.0, description='Loss: ', max=6000.0, style=ProgressStyle(description_widt…"
            ]
          },
          "metadata": {
            "tags": []
          }
        },
        {
          "output_type": "stream",
          "text": [
            "\n",
            "Epoch 5/10, training loss: 0.6473802683229247, validation loss: 0.6827799677848816\n",
            "\t     precision: 0.5861\n",
            "\t        recall: 0.5861\n",
            "\t            F1: 0.5861\n",
            "\t      accuracy: 0.5861\n"
          ],
          "name": "stdout"
        },
        {
          "output_type": "display_data",
          "data": {
            "application/vnd.jupyter.widget-view+json": {
              "model_id": "85aa921420a04f1c8ef6ccaa3027694c",
              "version_minor": 0,
              "version_major": 2
            },
            "text/plain": [
              "HBox(children=(FloatProgress(value=0.0, description='Loss: ', max=6000.0, style=ProgressStyle(description_widt…"
            ]
          },
          "metadata": {
            "tags": []
          }
        },
        {
          "output_type": "stream",
          "text": [
            "\n",
            "Epoch 6/10, training loss: 0.6354849812400838, validation loss: 0.7078409790992737\n",
            "\t     precision: 0.5689\n",
            "\t        recall: 0.5689\n",
            "\t            F1: 0.5689\n",
            "\t      accuracy: 0.5689\n"
          ],
          "name": "stdout"
        },
        {
          "output_type": "display_data",
          "data": {
            "application/vnd.jupyter.widget-view+json": {
              "model_id": "a8a05648ae324f3f8da9ca498ba32232",
              "version_minor": 0,
              "version_major": 2
            },
            "text/plain": [
              "HBox(children=(FloatProgress(value=0.0, description='Loss: ', max=6000.0, style=ProgressStyle(description_widt…"
            ]
          },
          "metadata": {
            "tags": []
          }
        },
        {
          "output_type": "stream",
          "text": [
            "\n",
            "Epoch 7/10, training loss: 0.6279862464740872, validation loss: 0.6703622937202454\n",
            "\t     precision: 0.5789\n",
            "\t        recall: 0.5789\n",
            "\t            F1: 0.5789\n",
            "\t      accuracy: 0.5789\n"
          ],
          "name": "stdout"
        },
        {
          "output_type": "display_data",
          "data": {
            "application/vnd.jupyter.widget-view+json": {
              "model_id": "5e640d95aa30489bbd8946911609a7c9",
              "version_minor": 0,
              "version_major": 2
            },
            "text/plain": [
              "HBox(children=(FloatProgress(value=0.0, description='Loss: ', max=6000.0, style=ProgressStyle(description_widt…"
            ]
          },
          "metadata": {
            "tags": []
          }
        },
        {
          "output_type": "stream",
          "text": [
            "\n",
            "Epoch 8/10, training loss: 0.6169706097754339, validation loss: 0.7043258547782898\n",
            "\t     precision: 0.5317\n",
            "\t        recall: 0.5317\n",
            "\t            F1: 0.5317\n",
            "\t      accuracy: 0.5317\n"
          ],
          "name": "stdout"
        },
        {
          "output_type": "display_data",
          "data": {
            "application/vnd.jupyter.widget-view+json": {
              "model_id": "c0a100b0a2bf41de9287dd8a7a7bb579",
              "version_minor": 0,
              "version_major": 2
            },
            "text/plain": [
              "HBox(children=(FloatProgress(value=0.0, description='Loss: ', max=6000.0, style=ProgressStyle(description_widt…"
            ]
          },
          "metadata": {
            "tags": []
          }
        },
        {
          "output_type": "stream",
          "text": [
            "\n",
            "Epoch 9/10, training loss: 0.6069507927000523, validation loss: 0.704591691493988\n",
            "\t     precision: 0.5500\n",
            "\t        recall: 0.5500\n",
            "\t            F1: 0.5500\n",
            "\t      accuracy: 0.5500\n"
          ],
          "name": "stdout"
        },
        {
          "output_type": "display_data",
          "data": {
            "application/vnd.jupyter.widget-view+json": {
              "model_id": "f55185300c2e48df8233899cf5eab24d",
              "version_minor": 0,
              "version_major": 2
            },
            "text/plain": [
              "HBox(children=(FloatProgress(value=0.0, description='Loss: ', max=6000.0, style=ProgressStyle(description_widt…"
            ]
          },
          "metadata": {
            "tags": []
          }
        },
        {
          "output_type": "stream",
          "text": [
            "\n",
            "Epoch 10/10, training loss: 0.5972812114438663, validation loss: 0.6872767210006714\n",
            "\t     precision: 0.5911\n",
            "\t        recall: 0.5911\n",
            "\t            F1: 0.5911\n",
            "\t      accuracy: 0.5911\n",
            "Training time: 504.1423623561859s\n"
          ],
          "name": "stdout"
        }
      ]
    },
    {
      "cell_type": "code",
      "metadata": {
        "id": "NXxva-S6LbzB",
        "colab_type": "code",
        "colab": {}
      },
      "source": [
        ""
      ],
      "execution_count": null,
      "outputs": []
    }
  ]
}