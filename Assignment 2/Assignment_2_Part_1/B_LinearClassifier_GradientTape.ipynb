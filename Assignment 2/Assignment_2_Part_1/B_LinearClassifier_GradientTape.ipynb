{
  "nbformat": 4,
  "nbformat_minor": 0,
  "metadata": {
    "colab": {
      "name": "B_LinearClassifier_GradientTape",
      "provenance": [],
      "toc_visible": true,
      "authorship_tag": "ABX9TyMccZxfXTMp+Run0jKJLW2T",
      "include_colab_link": true
    },
    "kernelspec": {
      "name": "python3",
      "display_name": "Python 3"
    }
  },
  "cells": [
    {
      "cell_type": "markdown",
      "metadata": {
        "id": "view-in-github",
        "colab_type": "text"
      },
      "source": [
        "<a href=\"https://colab.research.google.com/github/ashaaher/Emerging-Technologies/blob/master/Assignment%202/Assignment_2_Part_1/B_LinearClassifier_GradientTape.ipynb\" target=\"_parent\"><img src=\"https://colab.research.google.com/assets/colab-badge.svg\" alt=\"Open In Colab\"/></a>"
      ]
    },
    {
      "cell_type": "markdown",
      "metadata": {
        "id": "o2zFc5rDQu3R",
        "colab_type": "text"
      },
      "source": [
        "### **Building Linear Classifier using GradientTape and low level tensorflow code.**"
      ]
    },
    {
      "cell_type": "markdown",
      "metadata": {
        "id": "RnK5HOjjRIqD",
        "colab_type": "text"
      },
      "source": [
        "### **Understanding of GradientTape:**\n",
        "\n",
        "\n",
        "*   Trainable variables are watched by default because computing the gradient of loss with regards to list of trainable variables is the most common use case \n",
        "of gradient tape.\n",
        "\n",
        "*   GradientTape :GradientTape is the API through which we can leverage Tensorflow's powerful automatic differnciation capabilities\n",
        "\n",
        "*   Python can record the operations that runs inside the Tensorflow in the form of computation graph.\n",
        "\n",
        "*   We can use this graph to retrieve the gradient of any output with respect to any variable or set of variables."
      ]
    },
    {
      "cell_type": "markdown",
      "metadata": {
        "id": "iP5qVG26Ql5W",
        "colab_type": "text"
      },
      "source": [
        "###Installing Tensorflow"
      ]
    },
    {
      "cell_type": "code",
      "metadata": {
        "id": "XRC2kFRDQdaT",
        "colab_type": "code",
        "cellView": "code",
        "colab": {}
      },
      "source": [
        "!pip install tensorflow==2.0.0"
      ],
      "execution_count": null,
      "outputs": []
    },
    {
      "cell_type": "markdown",
      "metadata": {
        "id": "S7Yb-5DFLNE_",
        "colab_type": "text"
      },
      "source": [
        "### Importing tensorflow"
      ]
    },
    {
      "cell_type": "code",
      "metadata": {
        "id": "YlW7AfS6Eu2h",
        "colab_type": "code",
        "colab": {
          "base_uri": "https://localhost:8080/",
          "height": 34
        },
        "outputId": "6104a5f8-3dc3-4bbb-a3c4-6c233fbf6e13"
      },
      "source": [
        "import tensorflow as tf\n",
        "print(tf.__version__)"
      ],
      "execution_count": null,
      "outputs": [
        {
          "output_type": "stream",
          "text": [
            "2.0.0\n"
          ],
          "name": "stdout"
        }
      ]
    },
    {
      "cell_type": "markdown",
      "metadata": {
        "id": "FF3vuIeJLTQB",
        "colab_type": "text"
      },
      "source": [
        "### Creating the linear classifier variables"
      ]
    },
    {
      "cell_type": "code",
      "metadata": {
        "id": "mtgx-5pNE2Y5",
        "colab_type": "code",
        "colab": {}
      },
      "source": [
        "input_dim = 2\n",
        "output_dim = 1\n",
        "learning_rate = 0.01"
      ],
      "execution_count": null,
      "outputs": []
    },
    {
      "cell_type": "markdown",
      "metadata": {
        "id": "oJqYbRxxLZTV",
        "colab_type": "text"
      },
      "source": [
        "### Weight and bias matrix"
      ]
    },
    {
      "cell_type": "code",
      "metadata": {
        "id": "lJL_dJcpLYUR",
        "colab_type": "code",
        "colab": {}
      },
      "source": [
        "# This is our weight matrix\n",
        "w = tf.Variable(tf.random.uniform(shape=(input_dim, output_dim)))\n",
        "# This is our bias vector\n",
        "b = tf.Variable(tf.zeros(shape=(output_dim,)))"
      ],
      "execution_count": null,
      "outputs": []
    },
    {
      "cell_type": "markdown",
      "metadata": {
        "id": "csHvvyjvLgFM",
        "colab_type": "text"
      },
      "source": [
        "\n",
        "### The forward pass function"
      ]
    },
    {
      "cell_type": "code",
      "metadata": {
        "id": "j4rBEms4LgUF",
        "colab_type": "code",
        "colab": {}
      },
      "source": [
        "def compute_predictions(features):\n",
        "  return tf.matmul(features, w) + b"
      ],
      "execution_count": null,
      "outputs": []
    },
    {
      "cell_type": "markdown",
      "metadata": {
        "id": "1zjrjHuQLqaJ",
        "colab_type": "text"
      },
      "source": [
        "\n",
        "### The mean squared error loss function"
      ]
    },
    {
      "cell_type": "code",
      "metadata": {
        "id": "luC09RVgLrFS",
        "colab_type": "code",
        "colab": {}
      },
      "source": [
        "def compute_loss(labels, predictions):\n",
        "  return tf.reduce_mean(tf.square(labels - predictions))"
      ],
      "execution_count": null,
      "outputs": []
    },
    {
      "cell_type": "markdown",
      "metadata": {
        "id": "U53NGhzCLxUc",
        "colab_type": "text"
      },
      "source": [
        "\n",
        "### The training step function"
      ]
    },
    {
      "cell_type": "code",
      "metadata": {
        "id": "jkbiqNaLLxfM",
        "colab_type": "code",
        "colab": {}
      },
      "source": [
        "def train_on_batch(x, y):\n",
        "  with tf.GradientTape() as tape:\n",
        "    predictions = compute_predictions(x)\n",
        "    loss = compute_loss(y, predictions)\n",
        "    # Note that `tape.gradient` works with a list as well (w, b).\n",
        "    dloss_dw, dloss_db = tape.gradient(loss, [w, b])\n",
        "  w.assign_sub(learning_rate * dloss_dw)\n",
        "  b.assign_sub(learning_rate * dloss_db)\n",
        "  return loss"
      ],
      "execution_count": null,
      "outputs": []
    },
    {
      "cell_type": "markdown",
      "metadata": {
        "id": "rpKvnkuONWnl",
        "colab_type": "text"
      },
      "source": [
        "### Generating some artificial data to demonstrate the model"
      ]
    },
    {
      "cell_type": "code",
      "metadata": {
        "id": "dWWcuXnrFO3s",
        "colab_type": "code",
        "colab": {
          "base_uri": "https://localhost:8080/",
          "height": 282
        },
        "outputId": "d0aa8ba2-a19c-47cb-c025-39450832e884"
      },
      "source": [
        "import numpy as np\n",
        "import random\n",
        "import matplotlib.pyplot as plt\n",
        "%matplotlib inline\n",
        "\n",
        "### Generating two classes of random points in 2D plane\n",
        "# Prepare a dataset.\n",
        "num_samples = 10000\n",
        "negative_samples = np.random.multivariate_normal(\n",
        "    mean=[0, 3], cov=[[1, 0.5],[0.5, 1]], size=num_samples)\n",
        "positive_samples = np.random.multivariate_normal(\n",
        "    mean=[3, 0], cov=[[1, 0.5],[0.5, 1]], size=num_samples)\n",
        "features = np.vstack((negative_samples, positive_samples)).astype(np.float32)\n",
        "\n",
        "### Generating the corrosponding targets (0 and 1)\n",
        "labels = np.vstack((np.zeros((num_samples, 1), dtype='float32'),\n",
        "                    np.ones((num_samples, 1), dtype='float32')))\n",
        "\n",
        "plt.scatter(features[:, 0], features[:, 1], c=labels[:, 0])"
      ],
      "execution_count": null,
      "outputs": [
        {
          "output_type": "execute_result",
          "data": {
            "text/plain": [
              "<matplotlib.collections.PathCollection at 0x7f51d5ff75f8>"
            ]
          },
          "metadata": {
            "tags": []
          },
          "execution_count": 25
        },
        {
          "output_type": "display_data",
          "data": {
            "image/png": "[encoded data removed]",
            "text/plain": [
              "<Figure size 432x288 with 1 Axes>"
            ]
          },
          "metadata": {
            "tags": [],
            "needs_background": "light"
          }
        }
      ]
    },
    {
      "cell_type": "markdown",
      "metadata": {
        "id": "3i4xJ4eyM3-I",
        "colab_type": "text"
      },
      "source": [
        "###Training the linear regression"
      ]
    },
    {
      "cell_type": "markdown",
      "metadata": {
        "id": "AmnEE5ipMgZ3",
        "colab_type": "text"
      },
      "source": [
        "Training the linear regression by iterating over batch-by-batch over the data and repeatedly calling training step function called  'train_on_batch'"
      ]
    },
    {
      "cell_type": "code",
      "metadata": {
        "id": "TvQdL6t9FS1K",
        "colab_type": "code",
        "colab": {
          "base_uri": "https://localhost:8080/",
          "height": 187
        },
        "outputId": "26453326-0679-4c38-db7e-5b0157fa220c"
      },
      "source": [
        "# Shuffle the data.\n",
        "indices = np.random.permutation(len(features))\n",
        "features = features[indices]\n",
        "labels = labels[indices]\n",
        "\n",
        "# Create a tf.data.Dataset object for easy batched iteration\n",
        "dataset = tf.data.Dataset.from_tensor_slices((features, labels))\n",
        "dataset = dataset.shuffle(buffer_size=1024).batch(256)\n",
        "\n",
        "### The batch training loop \n",
        "for epoch in range(10):\n",
        "  for step, (x, y) in enumerate(dataset):\n",
        "    loss = train_on_batch(x, y)\n",
        "  print('Epoch %d: last batch loss = %.4f' % (epoch, float(loss)))"
      ],
      "execution_count": null,
      "outputs": [
        {
          "output_type": "stream",
          "text": [
            "Epoch 0: last batch loss = 0.0557\n",
            "Epoch 1: last batch loss = 0.0604\n",
            "Epoch 2: last batch loss = 0.0472\n",
            "Epoch 3: last batch loss = 0.0276\n",
            "Epoch 4: last batch loss = 0.0309\n",
            "Epoch 5: last batch loss = 0.0239\n",
            "Epoch 6: last batch loss = 0.0392\n",
            "Epoch 7: last batch loss = 0.0216\n",
            "Epoch 8: last batch loss = 0.0246\n",
            "Epoch 9: last batch loss = 0.0272\n"
          ],
          "name": "stdout"
        }
      ]
    },
    {
      "cell_type": "markdown",
      "metadata": {
        "id": "7XGwkJ7xITlj",
        "colab_type": "text"
      },
      "source": [
        "### Inference "
      ]
    },
    {
      "cell_type": "code",
      "metadata": {
        "id": "cZEg36_bFXlh",
        "colab_type": "code",
        "colab": {
          "base_uri": "https://localhost:8080/",
          "height": 265
        },
        "outputId": "f8afa431-49d1-445b-a87b-f14ba5815736"
      },
      "source": [
        "predictions = compute_predictions(features)\n",
        "plt.scatter(features[:, 0], features[:, 1], c=predictions[:, 0] > 0.5)\n",
        "plt.show()"
      ],
      "execution_count": null,
      "outputs": [
        {
          "output_type": "display_data",
          "data": {
            "image/png": "[encoded data removed]",
            "text/plain": [
              "<Figure size 432x288 with 1 Axes>"
            ]
          },
          "metadata": {
            "tags": [],
            "needs_background": "light"
          }
        }
      ]
    },
    {
      "cell_type": "markdown",
      "metadata": {
        "id": "9A5DDCVpN6jM",
        "colab_type": "text"
      },
      "source": [
        "### Checking code execution Speed"
      ]
    },
    {
      "cell_type": "code",
      "metadata": {
        "id": "qylzcnqsFacp",
        "colab_type": "code",
        "colab": {
          "base_uri": "https://localhost:8080/",
          "height": 34
        },
        "outputId": "6ec3fa24-faad-4faa-e8a7-3c4986367e93"
      },
      "source": [
        "import time\n",
        "\n",
        "t0 = time.time()\n",
        "for epoch in range(20):\n",
        "  for step, (x, y) in enumerate(dataset):\n",
        "    loss = train_on_batch(x, y)\n",
        "t_end = time.time() - t0\n",
        "print('Time per epoch: %.3f s' % (t_end / 20,))"
      ],
      "execution_count": null,
      "outputs": [
        {
          "output_type": "stream",
          "text": [
            "Time per epoch: 0.154 s\n"
          ],
          "name": "stdout"
        }
      ]
    },
    {
      "cell_type": "markdown",
      "metadata": {
        "id": "Cuu_u24OOS3Q",
        "colab_type": "text"
      },
      "source": [
        "We can increase the speed of above code execution by using tensorflows built in function called tf.function.\n",
        "we will compile same Training step function which we compiled above(train_on_batch) with tf.function added to it."
      ]
    },
    {
      "cell_type": "code",
      "metadata": {
        "id": "3x0dEPsUN5o9",
        "colab_type": "code",
        "colab": {}
      },
      "source": [
        "@tf.function\n",
        "def train_on_batch(x, y):\n",
        "  with tf.GradientTape() as tape:\n",
        "    predictions = compute_predictions(x)\n",
        "    loss = compute_loss(y, predictions)\n",
        "    dloss_dw, dloss_db = tape.gradient(loss, [w, b])\n",
        "  w.assign_sub(learning_rate * dloss_dw)\n",
        "  b.assign_sub(learning_rate * dloss_db)\n",
        "  return loss  "
      ],
      "execution_count": null,
      "outputs": []
    },
    {
      "cell_type": "markdown",
      "metadata": {
        "id": "kIw0gvMbPPgS",
        "colab_type": "text"
      },
      "source": [
        "Checking code execution speed after tf.function"
      ]
    },
    {
      "cell_type": "code",
      "metadata": {
        "id": "pQVLVFOLPD3z",
        "colab_type": "code",
        "colab": {
          "base_uri": "https://localhost:8080/",
          "height": 34
        },
        "outputId": "4ca600e8-c38a-465b-c9f4-5ac8561ed37b"
      },
      "source": [
        "t0 = time.time()\n",
        "for epoch in range(20):\n",
        "  for step, (x, y) in enumerate(dataset):\n",
        "    loss = train_on_batch(x, y)\n",
        "t_end = time.time() - t0\n",
        "print('Time per epoch: %.3f s' % (t_end / 20,))"
      ],
      "execution_count": null,
      "outputs": [
        {
          "output_type": "stream",
          "text": [
            "Time per epoch: 0.088 s\n"
          ],
          "name": "stdout"
        }
      ]
    },
    {
      "cell_type": "markdown",
      "metadata": {
        "id": "ZqJd4X1rPeEM",
        "colab_type": "text"
      },
      "source": [
        "As we can see there is 40% reduction in execution time after tf.function implementation. In general when the model is bigger,we can leverage static graphs for greater speedup.\n"
      ]
    }
  ]
}