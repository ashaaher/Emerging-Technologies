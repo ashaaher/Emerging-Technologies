{
  "nbformat": 4,
  "nbformat_minor": 0,
  "metadata": {
    "kernelspec": {
      "display_name": "Python [default]",
      "language": "python",
      "name": "python2"
    },
    "language_info": {
      "codemirror_mode": {
        "name": "ipython",
        "version": 2
      },
      "file_extension": ".py",
      "mimetype": "text/x-python",
      "name": "python",
      "nbconvert_exporter": "python",
      "pygments_lexer": "ipython2",
      "version": "2.7.11"
    },
    "colab": {
      "name": "Reptile_Sine wave Regression.ipynb",
      "provenance": [],
      "include_colab_link": true
    }
  },
  "cells": [
    {
      "cell_type": "markdown",
      "metadata": {
        "id": "view-in-github",
        "colab_type": "text"
      },
      "source": [
        "<a href=\"https://colab.research.google.com/github/ashaaher/Emerging-Technologies/blob/master/Assignment%204/Reptile_Sine_wave_Regression.ipynb\" target=\"_parent\"><img src=\"https://colab.research.google.com/assets/colab-badge.svg\" alt=\"Open In Colab\"/></a>"
      ]
    },
    {
      "cell_type": "markdown",
      "metadata": {
        "id": "Ln16q4LIRi7G"
      },
      "source": [
        "# Sine wave Regression Using Reptile"
      ]
    },
    {
      "cell_type": "markdown",
      "metadata": {
        "id": "bjvq6-rWR8cJ"
      },
      "source": [
        "Importing necessary libraries "
      ]
    },
    {
      "cell_type": "code",
      "metadata": {
        "id": "ruO50iJORi7G"
      },
      "source": [
        "import tensorflow as tf\n",
        "import numpy as np"
      ],
      "execution_count": null,
      "outputs": []
    },
    {
      "cell_type": "markdown",
      "metadata": {
        "id": "0DxxH_Y_Ri7G"
      },
      "source": [
        "Generating Data Points"
      ]
    },
    {
      "cell_type": "markdown",
      "metadata": {
        "id": "JKlmYoE-Ri7G"
      },
      "source": [
        "Defining a function called sample_points for generating (x,y) pairs. "
      ]
    },
    {
      "cell_type": "code",
      "metadata": {
        "id": "nSKyZaOYRi7G"
      },
      "source": [
        "def sample_points(k):\n",
        "    \n",
        "    num_points = 100\n",
        "    \n",
        "    #amplitude\n",
        "    amplitude = np.random.uniform(low=0.1, high=5.0)\n",
        "    \n",
        "    #phase\n",
        "    phase = np.random.uniform(low=0, high=np.pi)\n",
        "\n",
        "    x = np.linspace(-5, 5, num_points)\n",
        "\n",
        "    #y = a*sin(x+b)\n",
        "    y = amplitude * np.sin(x + phase)\n",
        "    \n",
        "    #sample k data points\n",
        "    sample = np.random.choice(np.arange(num_points), size=k)\n",
        "    \n",
        "    return (x[sample], y[sample])"
      ],
      "execution_count": null,
      "outputs": []
    },
    {
      "cell_type": "code",
      "metadata": {
        "scrolled": true,
        "id": "E9X1f2lgRi7H",
        "outputId": "697b2292-d3ce-455c-f7e4-8e518c27fc8c"
      },
      "source": [
        "x, y = sample_points(5)\n",
        "print x\n",
        "print y"
      ],
      "execution_count": null,
      "outputs": [
        {
          "output_type": "stream",
          "text": [
            "[ 1.96969697 -2.17171717  3.18181818  1.06060606  2.67676768]\n",
            "[-0.97122995 -0.19398046 -1.1409783   0.07730279 -1.29343206]\n"
          ],
          "name": "stdout"
        }
      ]
    },
    {
      "cell_type": "markdown",
      "metadata": {
        "id": "Td6sciQLRi7H"
      },
      "source": [
        "Two Layered Neural Network."
      ]
    },
    {
      "cell_type": "code",
      "metadata": {
        "id": "LpUiPUyzRi7H"
      },
      "source": [
        "# resetting the tensorflow graph.\n",
        "tf.reset_default_graph()"
      ],
      "execution_count": null,
      "outputs": []
    },
    {
      "cell_type": "markdown",
      "metadata": {
        "id": "JijXl3gVRi7H"
      },
      "source": [
        "Initializing network parameters."
      ]
    },
    {
      "cell_type": "code",
      "metadata": {
        "id": "sCeqaApjRi7H"
      },
      "source": [
        "num_hidden = 64\n",
        "num_classes = 1\n",
        "num_feature = 1"
      ],
      "execution_count": null,
      "outputs": []
    },
    {
      "cell_type": "markdown",
      "metadata": {
        "id": "cF_FiYg5Ri7H"
      },
      "source": [
        "Defining the placeholders for input and output."
      ]
    },
    {
      "cell_type": "code",
      "metadata": {
        "id": "VF7_6v2iRi7H"
      },
      "source": [
        "X = tf.placeholder(tf.float32, shape=[None, num_feature])\n",
        "Y = tf.placeholder(tf.float32, shape=[None, num_classes])"
      ],
      "execution_count": null,
      "outputs": []
    },
    {
      "cell_type": "markdown",
      "metadata": {
        "id": "2Vq5xMIpRi7I"
      },
      "source": [
        "Randomly initialize model parameters, "
      ]
    },
    {
      "cell_type": "code",
      "metadata": {
        "id": "FXwVOZIURi7I"
      },
      "source": [
        "w1 = tf.Variable(tf.random_uniform([num_feature, num_hidden]))\n",
        "b1 = tf.Variable(tf.random_uniform([num_hidden]))\n",
        "\n",
        "w2 = tf.Variable(tf.random_uniform([num_hidden, num_classes]))\n",
        "b2 = tf.Variable(tf.random_uniform([num_classes]))"
      ],
      "execution_count": null,
      "outputs": []
    },
    {
      "cell_type": "markdown",
      "metadata": {
        "id": "d1Q99YYsRi7I"
      },
      "source": [
        "feedforward operation to predict the output"
      ]
    },
    {
      "cell_type": "code",
      "metadata": {
        "id": "ze1fTi4xRi7I"
      },
      "source": [
        "#layer 1\n",
        "z1 = tf.matmul(X, w1) + b1\n",
        "a1 = tf.nn.tanh(z1)\n",
        "\n",
        "#output layer\n",
        "z2 = tf.matmul(a1, w2) + b2\n",
        "Yhat = tf.nn.tanh(z2)"
      ],
      "execution_count": null,
      "outputs": []
    },
    {
      "cell_type": "markdown",
      "metadata": {
        "id": "JtaQlHGYRi7I"
      },
      "source": [
        "Using loss function-Mean Squared "
      ]
    },
    {
      "cell_type": "code",
      "metadata": {
        "id": "p-sR0wexRi7I"
      },
      "source": [
        "loss_function = tf.reduce_mean(tf.square(Yhat - Y))"
      ],
      "execution_count": null,
      "outputs": []
    },
    {
      "cell_type": "markdown",
      "metadata": {
        "id": "xyqRQSRgRi7I"
      },
      "source": [
        "Using Adam Optimizer to optimise the loss"
      ]
    },
    {
      "cell_type": "code",
      "metadata": {
        "id": "LG9hYipxRi7I"
      },
      "source": [
        "optimizer = tf.train.AdamOptimizer(1e-2).minimize(loss_function)"
      ],
      "execution_count": null,
      "outputs": []
    },
    {
      "cell_type": "markdown",
      "metadata": {
        "id": "5vMldfLSRi7I"
      },
      "source": [
        "Initializing tensorflow variables."
      ]
    },
    {
      "cell_type": "code",
      "metadata": {
        "id": "S1WPPX-oRi7I"
      },
      "source": [
        "init = tf.global_variables_initializer()"
      ],
      "execution_count": null,
      "outputs": []
    },
    {
      "cell_type": "markdown",
      "metadata": {
        "id": "nYpxvoisRi7I"
      },
      "source": [
        "# Reptile\n"
      ]
    },
    {
      "cell_type": "code",
      "metadata": {
        "id": "kmU_33dyRi7I"
      },
      "source": [
        "#number of epochs i.e training iterations\n",
        "num_epochs = 100\n",
        "\n",
        "\n",
        "#number of samples i.e number of shots\n",
        "num_samples = 50  \n",
        "\n",
        "#number of tasks\n",
        "num_tasks = 2\n",
        "\n",
        "#number of times we want to perform optimization\n",
        "num_iterations = 10\n",
        "\n",
        "\n",
        "#mini btach size\n",
        "mini_batch = 10  "
      ],
      "execution_count": null,
      "outputs": []
    },
    {
      "cell_type": "code",
      "metadata": {
        "scrolled": false,
        "id": "7tyeTZ9YRi7I",
        "outputId": "72fca0dc-0aab-4723-ef74-acae414b0746"
      },
      "source": [
        "#start the tensorflow session\n",
        "with tf.Session() as sess:\n",
        "    \n",
        "    sess.run(init)\n",
        "    \n",
        "    for e in range(num_epochs):\n",
        "        \n",
        "        #for each task in batch of tasks\n",
        "        for task in range(num_tasks):\n",
        "\n",
        "            #get the initial parameters of the model\n",
        "            old_w1, old_b1, old_w2, old_b2 = sess.run([w1, b1, w2, b2,])\n",
        "\n",
        "            #sample x and y\n",
        "            x_sample, y_sample = sample_points(num_samples)\n",
        "\n",
        "\n",
        "            #for some k number of iterations perform optimization on the task\n",
        "            for k in range(num_iterations):\n",
        "\n",
        "                #get the minibatch x and y\n",
        "                for i in range(0, num_samples, mini_batch):\n",
        "\n",
        "                    #sample mini batch of examples \n",
        "                    x_minibatch = x_sample[i:i+mini_batch]\n",
        "                    y_minibatch = y_sample[i:i+mini_batch]\n",
        "\n",
        "\n",
        "                    train = sess.run(optimizer, feed_dict={X: x_minibatch.reshape(mini_batch,1), \n",
        "                                                           Y: y_minibatch.reshape(mini_batch,1)})\n",
        "\n",
        "            #get the updated model parameters after several iterations of optimization\n",
        "            new_w1, new_b1, new_w2, new_b2 = sess.run([w1, b1, w2, b2])\n",
        "\n",
        "            #Now we perform meta update\n",
        "\n",
        "            #i.e theta = theta + epsilon * (theta_star - theta)\n",
        "\n",
        "            epsilon = 0.1\n",
        "\n",
        "            updated_w1 = old_w1 + epsilon * (new_w1 - old_w1) \n",
        "            updated_b1 = old_b1 + epsilon * (new_b1 - old_b1) \n",
        "\n",
        "            updated_w2 = old_w2 + epsilon * (new_w2 - old_w2) \n",
        "            updated_b2 = old_b2 + epsilon * (new_b2 - old_b2) \n",
        "\n",
        "\n",
        "            #update the model parameter with new parameters\n",
        "            w1.load(updated_w1, sess)\n",
        "            b1.load(updated_b1, sess)\n",
        "\n",
        "            w2.load(updated_w2, sess)\n",
        "            b2.load(updated_b2, sess)\n",
        "\n",
        "        if e%10 == 0:\n",
        "            loss = sess.run(loss_function, feed_dict={X: x_sample.reshape(num_samples,1), Y: y_sample.reshape(num_samples,1)})\n",
        "\n",
        "            print \"Epoch {}: Loss {}\\n\".format(e,loss)             \n",
        "            print 'Updated Model Parameter Theta\\n'\n",
        "            print 'Sampling Next Batch of Tasks \\n'\n",
        "            print '---------------------------------\\n'"
      ],
      "execution_count": null,
      "outputs": [
        {
          "output_type": "stream",
          "text": [
            "Epoch 0: Loss 4.162981987\n",
            "\n",
            "Updated Model Parameter Theta\n",
            "\n",
            "Sampling Next Batch of Tasks \n",
            "\n",
            "---------------------------------\n",
            "\n",
            "Epoch 10: Loss 1.52488529682\n",
            "\n",
            "Updated Model Parameter Theta\n",
            "\n",
            "Sampling Next Batch of Tasks \n",
            "\n",
            "---------------------------------\n",
            "\n",
            "Epoch 20: Loss 1.74668705463\n",
            "\n",
            "Updated Model Parameter Theta\n",
            "\n",
            "Sampling Next Batch of Tasks \n",
            "\n",
            "---------------------------------\n",
            "\n",
            "Epoch 30: Loss 0.955383658409\n",
            "\n",
            "Updated Model Parameter Theta\n",
            "\n",
            "Sampling Next Batch of Tasks \n",
            "\n",
            "---------------------------------\n",
            "\n",
            "Epoch 40: Loss 9.85152721405\n",
            "\n",
            "Updated Model Parameter Theta\n",
            "\n",
            "Sampling Next Batch of Tasks \n",
            "\n",
            "---------------------------------\n",
            "\n",
            "Epoch 50: Loss 3.62764883041\n",
            "\n",
            "Updated Model Parameter Theta\n",
            "\n",
            "Sampling Next Batch of Tasks \n",
            "\n",
            "---------------------------------\n",
            "\n",
            "Epoch 60: Loss 5.67536497116\n",
            "\n",
            "Updated Model Parameter Theta\n",
            "\n",
            "Sampling Next Batch of Tasks \n",
            "\n",
            "---------------------------------\n",
            "\n",
            "Epoch 70: Loss 1.39854609966\n",
            "\n",
            "Updated Model Parameter Theta\n",
            "\n",
            "Sampling Next Batch of Tasks \n",
            "\n",
            "---------------------------------\n",
            "\n",
            "Epoch 80: Loss 6.68237304688\n",
            "\n",
            "Updated Model Parameter Theta\n",
            "\n",
            "Sampling Next Batch of Tasks \n",
            "\n",
            "---------------------------------\n",
            "\n",
            "Epoch 90: Loss 7.83017683029\n",
            "\n",
            "Updated Model Parameter Theta\n",
            "\n",
            "Sampling Next Batch of Tasks \n",
            "\n",
            "---------------------------------\n",
            "\n"
          ],
          "name": "stdout"
        }
      ]
    },
    {
      "cell_type": "markdown",
      "metadata": {
        "id": "MVoou-w6TIfh"
      },
      "source": [
        "Reference : https://github.com/sudharsan13296/Hands-On-Meta-Learning-With-Python/blob/master/07.%20Meta-SGD%20and%20Reptile%20Algorithms/7.7%20Sine%20wave%20Regression%20Using%20Reptile.ipynb"
      ]
    },
    {
      "cell_type": "code",
      "metadata": {
        "id": "9S5dekJzTQAo"
      },
      "source": [
        ""
      ],
      "execution_count": null,
      "outputs": []
    }
  ]
}