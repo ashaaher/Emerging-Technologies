{
  "nbformat": 4,
  "nbformat_minor": 0,
  "metadata": {
    "colab": {
      "name": "XGboost.ipynb",
      "provenance": [],
      "authorship_tag": "ABX9TyNlAFgf/o4/pF6WGxyiEiP8",
      "include_colab_link": true
    },
    "kernelspec": {
      "name": "python3",
      "display_name": "Python 3"
    }
  },
  "cells": [
    {
      "cell_type": "markdown",
      "metadata": {
        "id": "view-in-github",
        "colab_type": "text"
      },
      "source": [
        "<a href=\"https://colab.research.google.com/github/ashaaher/Emerging-Technologies/blob/master/Assignment%207/Extra%20Credit/XGboost.ipynb\" target=\"_parent\"><img src=\"https://colab.research.google.com/assets/colab-badge.svg\" alt=\"Open In Colab\"/></a>"
      ]
    },
    {
      "cell_type": "code",
      "metadata": {
        "id": "dLfay4QF4riD"
      },
      "source": [
        ""
      ],
      "execution_count": null,
      "outputs": []
    },
    {
      "cell_type": "markdown",
      "metadata": {
        "id": "HEH14QHe4yOO"
      },
      "source": [
        "a) do a simple colab with some kaggle data set on xgboost machine - do gridsearch on hyperparams if possible"
      ]
    },
    {
      "cell_type": "code",
      "metadata": {
        "id": "TOwtTrKx4zQP"
      },
      "source": [
        ""
      ],
      "execution_count": null,
      "outputs": []
    }
  ]
}