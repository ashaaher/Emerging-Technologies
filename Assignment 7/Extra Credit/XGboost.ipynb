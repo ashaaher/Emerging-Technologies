{
  "nbformat": 4,
  "nbformat_minor": 0,
  "metadata": {
    "colab": {
      "name": "XGboost.ipynb",
      "provenance": [],
      "authorship_tag": "ABX9TyPiyxBvuE6tSm6V+r3hc8NH",
      "include_colab_link": true
    },
    "kernelspec": {
      "name": "python3",
      "display_name": "Python 3"
    }
  },
  "cells": [
    {
      "cell_type": "markdown",
      "metadata": {
        "id": "view-in-github",
        "colab_type": "text"
      },
      "source": [
        "<a href=\"https://colab.research.google.com/github/ashaaher/Emerging-Technologies/blob/master/Assignment%207/Extra%20Credit/XGboost.ipynb\" target=\"_parent\"><img src=\"https://colab.research.google.com/assets/colab-badge.svg\" alt=\"Open In Colab\"/></a>"
      ]
    },
    {
      "cell_type": "code",
      "metadata": {
        "id": "dLfay4QF4riD",
        "colab": {
          "base_uri": "https://localhost:8080/"
        },
        "outputId": "133afb63-d0c5-4884-c444-5366afbfeed6"
      },
      "source": [
        "\n",
        "# Install xgboost\n",
        "!pip install xgboost"
      ],
      "execution_count": 1,
      "outputs": [
        {
          "output_type": "stream",
          "text": [
            "Requirement already satisfied: xgboost in /usr/local/lib/python3.6/dist-packages (0.90)\n",
            "Requirement already satisfied: numpy in /usr/local/lib/python3.6/dist-packages (from xgboost) (1.19.4)\n",
            "Requirement already satisfied: scipy in /usr/local/lib/python3.6/dist-packages (from xgboost) (1.4.1)\n"
          ],
          "name": "stdout"
        }
      ]
    },
    {
      "cell_type": "code",
      "metadata": {
        "id": "TOwtTrKx4zQP"
      },
      "source": [
        "import pandas as pd\n",
        "import xgboost as xgb\n",
        "from sklearn.datasets import load_boston\n",
        "from sklearn.model_selection import train_test_split\n",
        "from sklearn.metrics import mean_squared_error"
      ],
      "execution_count": 2,
      "outputs": []
    },
    {
      "cell_type": "code",
      "metadata": {
        "id": "5I1_FmOuGjdP"
      },
      "source": [
        "# Load dataset\n",
        "boston_data = load_boston()\n",
        "x = pd.DataFrame(boston_data.data, columns=boston_data.feature_names)\n",
        "y = pd.Series(boston_data.target)"
      ],
      "execution_count": 3,
      "outputs": []
    },
    {
      "cell_type": "code",
      "metadata": {
        "id": "TMot3YNsGmpO"
      },
      "source": [
        "x_train, x_test, y_train, y_test = train_test_split(x, y)"
      ],
      "execution_count": 4,
      "outputs": []
    },
    {
      "cell_type": "code",
      "metadata": {
        "id": "xmadqJteGoze"
      },
      "source": [
        "xgb = xgb.XGBRegressor(\n",
        "    n_estimators=100,\n",
        "    reg_lambda=1,\n",
        "    gamma=0,\n",
        "    max_depth=4\n",
        ")"
      ],
      "execution_count": 5,
      "outputs": []
    },
    {
      "cell_type": "code",
      "metadata": {
        "colab": {
          "base_uri": "https://localhost:8080/"
        },
        "id": "vahMby1TGrHe",
        "outputId": "1f3df312-0a70-4727-c19c-6e5a72a488fa"
      },
      "source": [
        "xgb.fit(x_train, y_train)"
      ],
      "execution_count": 6,
      "outputs": [
        {
          "output_type": "stream",
          "text": [
            "[09:07:39] WARNING: /workspace/src/objective/regression_obj.cu:152: reg:linear is now deprecated in favor of reg:squarederror.\n"
          ],
          "name": "stdout"
        },
        {
          "output_type": "execute_result",
          "data": {
            "text/plain": [
              "XGBRegressor(base_score=0.5, booster='gbtree', colsample_bylevel=1,\n",
              "             colsample_bynode=1, colsample_bytree=1, gamma=0,\n",
              "             importance_type='gain', learning_rate=0.1, max_delta_step=0,\n",
              "             max_depth=4, min_child_weight=1, missing=None, n_estimators=100,\n",
              "             n_jobs=1, nthread=None, objective='reg:linear', random_state=0,\n",
              "             reg_alpha=0, reg_lambda=1, scale_pos_weight=1, seed=None,\n",
              "             silent=None, subsample=1, verbosity=1)"
            ]
          },
          "metadata": {
            "tags": []
          },
          "execution_count": 6
        }
      ]
    },
    {
      "cell_type": "code",
      "metadata": {
        "colab": {
          "base_uri": "https://localhost:8080/",
          "height": 80
        },
        "id": "rnuqtEfZGs4O",
        "outputId": "a1beb33a-a0a6-48a0-bdd9-9978effedeb9"
      },
      "source": [
        "pd.DataFrame(xgb.feature_importances_.reshape(1, -1), columns=boston_data.feature_names)"
      ],
      "execution_count": 7,
      "outputs": [
        {
          "output_type": "execute_result",
          "data": {
            "text/html": [
              "<div>\n",
              "<style scoped>\n",
              "    .dataframe tbody tr th:only-of-type {\n",
              "        vertical-align: middle;\n",
              "    }\n",
              "\n",
              "    .dataframe tbody tr th {\n",
              "        vertical-align: top;\n",
              "    }\n",
              "\n",
              "    .dataframe thead th {\n",
              "        text-align: right;\n",
              "    }\n",
              "</style>\n",
              "<table border=\"1\" class=\"dataframe\">\n",
              "  <thead>\n",
              "    <tr style=\"text-align: right;\">\n",
              "      <th></th>\n",
              "      <th>CRIM</th>\n",
              "      <th>ZN</th>\n",
              "      <th>INDUS</th>\n",
              "      <th>CHAS</th>\n",
              "      <th>NOX</th>\n",
              "      <th>RM</th>\n",
              "      <th>AGE</th>\n",
              "      <th>DIS</th>\n",
              "      <th>RAD</th>\n",
              "      <th>TAX</th>\n",
              "      <th>PTRATIO</th>\n",
              "      <th>B</th>\n",
              "      <th>LSTAT</th>\n",
              "    </tr>\n",
              "  </thead>\n",
              "  <tbody>\n",
              "    <tr>\n",
              "      <th>0</th>\n",
              "      <td>0.018462</td>\n",
              "      <td>0.006302</td>\n",
              "      <td>0.00664</td>\n",
              "      <td>0.00399</td>\n",
              "      <td>0.034269</td>\n",
              "      <td>0.228494</td>\n",
              "      <td>0.013152</td>\n",
              "      <td>0.033192</td>\n",
              "      <td>0.013586</td>\n",
              "      <td>0.024219</td>\n",
              "      <td>0.036986</td>\n",
              "      <td>0.010928</td>\n",
              "      <td>0.56978</td>\n",
              "    </tr>\n",
              "  </tbody>\n",
              "</table>\n",
              "</div>"
            ],
            "text/plain": [
              "       CRIM        ZN    INDUS     CHAS  ...       TAX   PTRATIO         B    LSTAT\n",
              "0  0.018462  0.006302  0.00664  0.00399  ...  0.024219  0.036986  0.010928  0.56978\n",
              "\n",
              "[1 rows x 13 columns]"
            ]
          },
          "metadata": {
            "tags": []
          },
          "execution_count": 7
        }
      ]
    },
    {
      "cell_type": "code",
      "metadata": {
        "id": "Sepx69CRGvX-"
      },
      "source": [
        "\n",
        "# Make prediction\n",
        "y_pred = xgb.predict(x_test)"
      ],
      "execution_count": 8,
      "outputs": []
    },
    {
      "cell_type": "code",
      "metadata": {
        "colab": {
          "base_uri": "https://localhost:8080/"
        },
        "id": "mF79JIk0GxQ1",
        "outputId": "4bea867f-a6ab-467c-a034-cfb0060c6816"
      },
      "source": [
        "\n",
        "# Evaluate model performance\n",
        "mean_squared_error(y_test, y_pred)"
      ],
      "execution_count": 9,
      "outputs": [
        {
          "output_type": "execute_result",
          "data": {
            "text/plain": [
              "15.287605517159882"
            ]
          },
          "metadata": {
            "tags": []
          },
          "execution_count": 9
        }
      ]
    },
    {
      "cell_type": "code",
      "metadata": {
        "colab": {
          "base_uri": "https://localhost:8080/"
        },
        "id": "FRGbRP7TGzcU",
        "outputId": "b06d2d77-1e4f-4293-ef33-4755f9a91e74"
      },
      "source": [
        "\n",
        "# Pediction\n",
        "y_pred"
      ],
      "execution_count": 10,
      "outputs": [
        {
          "output_type": "execute_result",
          "data": {
            "text/plain": [
              "array([20.963566, 19.899015, 18.410038, 21.878626, 30.331505, 18.61524 ,\n",
              "       23.970535, 20.11017 , 31.739613,  8.532579, 27.030382, 13.707775,\n",
              "       19.675634, 15.28074 , 38.149815,  9.701077, 15.320459, 26.03514 ,\n",
              "       26.389435, 22.902824, 44.659306, 29.150122, 16.312023, 27.855383,\n",
              "       18.651789, 30.044657, 23.634615, 15.064697, 20.005077, 35.890137,\n",
              "        7.739434, 20.550552, 25.999544, 24.098482, 19.252592, 12.544121,\n",
              "       20.263552, 42.328434, 19.749508,  9.077847, 20.220774, 30.477865,\n",
              "       31.596994, 16.342007, 26.196709, 17.044271, 19.10299 , 25.727863,\n",
              "       21.508204, 23.373806, 47.85043 , 35.199814, 23.62209 , 17.835396,\n",
              "       34.214596, 24.311779, 21.929848, 34.848896, 20.266682, 24.226673,\n",
              "       29.791304, 15.153837, 12.44294 , 15.614048, 24.430288, 14.217985,\n",
              "       17.25088 , 25.349693, 18.94633 , 13.407851, 33.150238, 19.334593,\n",
              "       26.464703, 37.697758, 39.524906, 13.242296, 16.391724, 23.526722,\n",
              "       36.870525, 45.939358, 23.586527, 38.282394, 11.530971, 22.764877,\n",
              "       33.335762, 12.705693, 41.882645,  9.516344, 12.59816 , 23.433317,\n",
              "       18.049406, 20.44908 , 21.289751, 19.724123, 16.263414, 22.565777,\n",
              "       21.49458 ,  9.190683, 20.27605 , 42.455753,  8.531864, 20.583792,\n",
              "       22.521452, 21.977581, 17.020124, 23.741941, 38.72642 , 18.978737,\n",
              "       21.36911 , 25.343857, 22.209719, 19.61867 , 20.306358, 21.045895,\n",
              "       31.338678, 20.372732, 19.574528, 19.85835 , 20.13891 , 33.157547,\n",
              "       20.91828 , 24.953857, 20.79536 , 21.378092, 15.340926, 29.596525,\n",
              "       20.193134], dtype=float32)"
            ]
          },
          "metadata": {
            "tags": []
          },
          "execution_count": 10
        }
      ]
    },
    {
      "cell_type": "code",
      "metadata": {
        "id": "8WTLJa3GG1N0"
      },
      "source": [
        ""
      ],
      "execution_count": null,
      "outputs": []
    }
  ]
}