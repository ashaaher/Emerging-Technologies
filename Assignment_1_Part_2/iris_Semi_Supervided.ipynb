{
  "nbformat": 4,
  "nbformat_minor": 0,
  "metadata": {
    "colab": {
      "name": "iris_Semi_Supervided.ipynb",
      "provenance": [],
      "authorship_tag": "ABX9TyO2u6iQTak8BfwtZnO/Nrh9",
      "include_colab_link": true
    },
    "kernelspec": {
      "name": "python3",
      "display_name": "Python 3"
    }
  },
  "cells": [
    {
      "cell_type": "markdown",
      "metadata": {
        "id": "view-in-github",
        "colab_type": "text"
      },
      "source": [
        "<a href=\"https://colab.research.google.com/github/ashaaher/Emerging-Technologies/blob/master/Assignment_1_Part_2/iris_Semi_Supervided.ipynb\" target=\"_parent\"><img src=\"https://colab.research.google.com/assets/colab-badge.svg\" alt=\"Open In Colab\"/></a>"
      ]
    },
    {
      "cell_type": "code",
      "metadata": {
        "id": "u0Z_K1Kw4aGc",
        "colab_type": "code",
        "colab": {
          "base_uri": "https://localhost:8080/",
          "height": 51
        },
        "outputId": "0ffe008a-3c11-469b-f83c-6075348df8f4"
      },
      "source": [
        "pip install pypcc"
      ],
      "execution_count": 50,
      "outputs": [
        {
          "output_type": "stream",
          "text": [
            "Requirement already satisfied: pypcc in /usr/local/lib/python3.6/dist-packages (0.0.6)\n",
            "Requirement already satisfied: numpy in /usr/local/lib/python3.6/dist-packages (from pypcc) (1.18.5)\n"
          ],
          "name": "stdout"
        }
      ]
    },
    {
      "cell_type": "code",
      "metadata": {
        "id": "uINVT4aC4e2D",
        "colab_type": "code",
        "colab": {
          "base_uri": "https://localhost:8080/",
          "height": 102
        },
        "outputId": "f1b1d982-04c1-4e46-f529-5ba88d2e43d0"
      },
      "source": [
        "pip install sklearn"
      ],
      "execution_count": 51,
      "outputs": [
        {
          "output_type": "stream",
          "text": [
            "Requirement already satisfied: sklearn in /usr/local/lib/python3.6/dist-packages (0.0)\n",
            "Requirement already satisfied: scikit-learn in /usr/local/lib/python3.6/dist-packages (from sklearn) (0.22.2.post1)\n",
            "Requirement already satisfied: scipy>=0.17.0 in /usr/local/lib/python3.6/dist-packages (from scikit-learn->sklearn) (1.4.1)\n",
            "Requirement already satisfied: joblib>=0.11 in /usr/local/lib/python3.6/dist-packages (from scikit-learn->sklearn) (0.16.0)\n",
            "Requirement already satisfied: numpy>=1.11.0 in /usr/local/lib/python3.6/dist-packages (from scikit-learn->sklearn) (1.18.5)\n"
          ],
          "name": "stdout"
        }
      ]
    },
    {
      "cell_type": "code",
      "metadata": {
        "id": "z943m2dS4h6B",
        "colab_type": "code",
        "colab": {}
      },
      "source": [
        "from sklearn import datasets\n",
        "iris_data = datasets.load_iris\n",
        "data_value = iris.data\n",
        "label = iris.target"
      ],
      "execution_count": 52,
      "outputs": []
    },
    {
      "cell_type": "code",
      "metadata": {
        "id": "uQeqyECa4v-f",
        "colab_type": "code",
        "colab": {}
      },
      "source": [
        "import numpy as np\n",
        "import random\n",
        "\n",
        "\n",
        "def maskData(true_labels, percentage):\n",
        "\n",
        "  mask = np.ones((1,len(true_labels)), dtype=bool)[0]\n",
        "  labels = true_labels.copy()\n",
        "\n",
        "  for l,enc in zip(np.unique(true_labels), range(0,len(np.unique(true_labels)))):\n",
        "\n",
        "    deck = np.argwhere(true_labels == 1).flatten()\n",
        "    random.shuffle(deck)\n",
        "\n",
        "    mask[deck[:int(percentage * len(true_labels[true_labels == 1]))]] = False\n",
        "\n",
        "    labels[labels == 1] =enc\n",
        "  labels[mask] = -1\n",
        "\n",
        "  return np.array(labels).astype(int)"
      ],
      "execution_count": 58,
      "outputs": []
    },
    {
      "cell_type": "code",
      "metadata": {
        "id": "cA0A6IMgOCv4",
        "colab_type": "code",
        "colab": {
          "base_uri": "https://localhost:8080/",
          "height": 68
        },
        "outputId": "1dfcfafb-77c5-42dc-c2d1-3ea68a00922f"
      },
      "source": [
        "\n",
        "import numpy as np\n",
        "from sklearn import datasets\n",
        "from sklearn.metrics import confusion_matrix\n",
        "from sklearn.semi_supervised import LabelPropagation\n",
        "\n",
        "def runLP():\n",
        "\n",
        "  # database importing\n",
        "  iris = datasets.load_iris()\n",
        "  data = iris.data\n",
        "  labels = iris.target\n",
        "\n",
        "  #unlabeling 95% of the dataset \n",
        "  masked_labels = maskData(labels, 0.05)\n",
        "\n",
        "  #running the model\n",
        "  model = LabelPropagation()\n",
        "  model.fit(data,masked_labels)\n",
        "  pred = np.array(model.predict(data))\n",
        "\n",
        "  #seperating predicted samples\n",
        "  labels = np.array(labels[masked_labels == -1]).astype(int)\n",
        "  pred = pred[masked_labels == -1]\n",
        "\n",
        "  #printing confusion matrix\n",
        "  print(confusion_matrix(labels,pred))\n",
        "\n",
        "if __name__ == '__main__':\n",
        "  runLP()"
      ],
      "execution_count": 61,
      "outputs": [
        {
          "output_type": "stream",
          "text": [
            "[[50  0  0]\n",
            " [45  0  0]\n",
            " [50  0  0]]\n"
          ],
          "name": "stdout"
        }
      ]
    },
    {
      "cell_type": "code",
      "metadata": {
        "id": "eRUVLf8W0Z2j",
        "colab_type": "code",
        "colab": {}
      },
      "source": [
        ""
      ],
      "execution_count": null,
      "outputs": []
    }
  ]
}